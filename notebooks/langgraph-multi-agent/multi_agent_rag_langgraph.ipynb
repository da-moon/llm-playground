{
  "cells": [
    {
      "cell_type": "markdown",
      "metadata": {
        "id": "KxpWDFG11o3G"
      },
      "source": [
        "# Multi-Agent Workflows + RAG - LangGraph\n",
        "\n",
        "Today we'll be looking at an example of a Multi-Agent workflow that's powered by LangGraph, LCEL, and more!\n",
        "\n",
        "We're going to be, more specifically, looking at a \"heirarchical agent teams\" from the [AutoGen: Enabling Next-Gen LLM\n",
        "Applications via Multi-Agent Conversation](https://arxiv.org/pdf/2308.08155) paper.\n",
        "\n",
        "This will be the final \"graph\" of our system:\n",
        "\n",
        "![image](https://i.imgur.com/Bhc7RVE.png)\n",
        "\n",
        "It's important to keep in mind that the actual implementation will be constructed of 3 separate graphs, the final one having 2 graphs as nodes! LangGraph is a heckuva tool!\n",
        "\n",
        "> NOTE: We'll be following along with the official LangGraph implementation very closely, which you can find [here](https://github.com/langchain-ai/langgraph/blob/main/examples/multi_agent/hierarchical_agent_teams.ipynb), with some minor modifications and extensions to showcase just how straightforward it is to modify LangGraph implementations to suit your own needs!\n",
        "\n"
      ]
    },
    {
      "cell_type": "markdown",
      "metadata": {
        "id": "mx3oaVoX5cA2"
      },
      "source": [
        "## Dependencies\n",
        "\n",
        "We'll start, as we normally do, by grabbing our dependencies."
      ]
    },
    {
      "cell_type": "code",
      "execution_count": 1,
      "metadata": {
        "id": "cs6HUTgecbzW"
      },
      "outputs": [
        {
          "name": "stdout",
          "output_type": "stream",
          "text": [
            "\u001b[34mInstalling dependencies from lock file\u001b[39m\n",
            "\n",
            "No dependencies to install or update\n"
          ]
        }
      ],
      "source": [
        "!poetry install"
      ]
    },
    {
      "cell_type": "markdown",
      "metadata": {
        "id": "Zpv2MWqu5vS9"
      },
      "source": [
        "Since we'll be relying on OpenAI's suite of models to power our agents today, we'll want to provide our OpenAI API Key.\n",
        "\n",
        "We're also going to be using the Tavily search tool - so we'll want to provide that API key as well!\n",
        "\n",
        "Instruction for how to obtain the Tavily API key can be found:\n",
        "\n",
        "1. [Tavily API Key](https://app.tavily.com/sign-in)\n",
        "\n"
      ]
    },
    {
      "cell_type": "code",
      "execution_count": 2,
      "metadata": {
        "colab": {
          "base_uri": "https://localhost:8080/"
        },
        "id": "h30OjkLfeR2Y",
        "outputId": "9b1275c1-bf33-4984-ab6f-e27080ef494e"
      },
      "outputs": [],
      "source": [
        "import os\n",
        "from getpass import getpass\n",
        "os.environ[\"LANGCHAIN_TRACING_V2\"] = \"true\"\n",
        "os.environ[\"LANGCHAIN_PROJECT\"] = f\"LangGraph - Multi-Agent\"\n",
        "if \"LANGCHAIN_API_KEY\" not in os.environ:\n",
        "    os.environ[\"LANGCHAIN_API_KEY\"] = getpass('Enter your LangSmith API key: ')\n",
        "if \"OPENAI_API_KEY\" not in os.environ:\n",
        "    os.environ[\"OPENAI_API_KEY\"] = getpass(\"OpenAI API Key: \")\n",
        "if \"TAVILY_API_KEY\" not in os.environ:\n",
        "    os.environ[\"TAVILY_API_KEY\"] = getpass(\"Tavily API Key: \")    "
      ]
    },
    {
      "cell_type": "markdown",
      "metadata": {
        "id": "M_LD7rwT6PbO"
      },
      "source": [
        "## Simple LCEL RAG\n",
        "\n",
        "Now that we have our dependencies set-up - let's create a simple RAG chain that works over a single PDF.\n",
        "\n",
        "> NOTE: While this particular example is very straight forward - you can \"plug in\" any complexity of chain you desire as a node in a LangGraph."
      ]
    },
    {
      "cell_type": "markdown",
      "metadata": {
        "id": "JY7T5kxJ6jGn"
      },
      "source": [
        "## Retrieval\n",
        "\n",
        "The 'R' in 'RAG' - this is, at this point, fairly straightforward!"
      ]
    },
    {
      "cell_type": "markdown",
      "metadata": {
        "id": "DGuPxSCk7Ztz"
      },
      "source": [
        "#### Data Collection and Processing\n",
        "\n",
        "A classic first step, at this point, let's grab our desired document!"
      ]
    },
    {
      "cell_type": "code",
      "execution_count": 3,
      "metadata": {
        "id": "LfuoEYRCln3H"
      },
      "outputs": [],
      "source": [
        "from typing import List\n",
        "from langchain.document_loaders import PyMuPDFLoader\n",
        "from langchain_core.documents.base import Document\n",
        "url:str = \"https://arxiv.org/pdf/2404.19553\"\n",
        "docs: List[Document] = PyMuPDFLoader(url).load()"
      ]
    },
    {
      "cell_type": "markdown",
      "metadata": {
        "id": "r_t_F1zG6vXa"
      },
      "source": [
        "Now we can chunk it down to size!"
      ]
    },
    {
      "cell_type": "code",
      "execution_count": 4,
      "metadata": {
        "id": "5R7A_z8CgL79"
      },
      "outputs": [],
      "source": [
        "from typing import List\n",
        "import tiktoken\n",
        "\n",
        "def tiktoken_len(text) -> int:\n",
        "    tokens: List[int] = tiktoken.encoding_for_model(\"gpt-4o-mini\").encode(\n",
        "        text,\n",
        "    )\n",
        "    return len(tokens)"
      ]
    },
    {
      "cell_type": "code",
      "execution_count": 5,
      "metadata": {},
      "outputs": [],
      "source": [
        "from langchain.text_splitter import RecursiveCharacterTextSplitter\n",
        "\n",
        "chunk_size : int = 300\n",
        "chunk_overlap : int = 0\n",
        "text_splitter: RecursiveCharacterTextSplitter = RecursiveCharacterTextSplitter(\n",
        "    chunk_size = chunk_size,\n",
        "    chunk_overlap = chunk_overlap,\n",
        "    length_function = tiktoken_len,\n",
        ")"
      ]
    },
    {
      "cell_type": "code",
      "execution_count": 6,
      "metadata": {},
      "outputs": [],
      "source": [
        "from typing import List\n",
        "\n",
        "\n",
        "from langchain_core.documents.base import Document\n",
        "\n",
        "\n",
        "split_chunks: List[Document] = text_splitter.split_documents(docs)\n"
      ]
    },
    {
      "cell_type": "markdown",
      "metadata": {
        "id": "lGE-VuMc7AKv"
      },
      "source": [
        "Now we've successfully split our single PDF into..."
      ]
    },
    {
      "cell_type": "code",
      "execution_count": 7,
      "metadata": {
        "colab": {
          "base_uri": "https://localhost:8080/"
        },
        "id": "pgYBHsdWmLvW",
        "outputId": "16d5e6f1-46ff-428f-870b-2df570065171"
      },
      "outputs": [
        {
          "data": {
            "text/plain": [
              "15"
            ]
          },
          "execution_count": 7,
          "metadata": {},
          "output_type": "execute_result"
        }
      ],
      "source": [
        "len(split_chunks)"
      ]
    },
    {
      "cell_type": "markdown",
      "metadata": {
        "id": "lxaKmmyh7DHD"
      },
      "source": [
        "documents!"
      ]
    },
    {
      "cell_type": "markdown",
      "metadata": {
        "id": "cGWs7KTd7QPS"
      },
      "source": [
        "#### Embedding Model and Vector Store\n",
        "\n",
        "Now that we have our chunked document - lets create a vector store, which will first require us to create an embedding model to get the vector representations of our text!\n",
        "\n",
        "We'll use OpenAI's [`text-embedding-3-small`](https://platform.openai.com/docs/guides/embeddings/embedding-models) model - as it's cheap, and performant."
      ]
    },
    {
      "cell_type": "code",
      "execution_count": 8,
      "metadata": {
        "id": "xLIWMMZCmfrj"
      },
      "outputs": [],
      "source": [
        "from langchain_openai.embeddings import OpenAIEmbeddings\n",
        "from langchain_core.embeddings import Embeddings\n",
        "# NOTE: use Embedding abstract class to make it more generic in case \n",
        "# we want to change embedding model in the future \n",
        "embedding_model : Embeddings= OpenAIEmbeddings(model=\"text-embedding-3-small\")"
      ]
    },
    {
      "cell_type": "markdown",
      "metadata": {
        "id": "lTEi7Ww573sc"
      },
      "source": [
        "Now we can create our QDrant backed vector store!"
      ]
    },
    {
      "cell_type": "code",
      "execution_count": 9,
      "metadata": {
        "id": "Xct51f8omVAU"
      },
      "outputs": [
        {
          "name": "stdout",
          "output_type": "stream",
          "text": [
            "Collection 'extending_context_window_llama_3' created successfully.\n"
          ]
        }
      ],
      "source": [
        "from qdrant_client import QdrantClient\n",
        "from qdrant_client.http import models as rest\n",
        "from langchain_community.vectorstores import Qdrant\n",
        "\n",
        "def create_qdrant_collection_if_not_exists(client: QdrantClient, collection_name: str, vector_size: int) -> bool:\n",
        "    \"\"\"\n",
        "    This function does the following:\n",
        "\n",
        "    1. It attempts to get the collection information using `client.get_collection()`.\n",
        "    2. If successful, it means the collection already exists, so it prints a message and returns `False`.\n",
        "    3. If a `ValueError` is raised, it means the collection doesn't exist. In this case, it creates the collection and returns `True`.\n",
        "\n",
        "    You can use this function before creating your Qdrant vector store. If the collection already exists, you can choose to use the existing collection or update it as needed. If it doesn't exist, you can proceed with creating a new collection and adding your documents.\n",
        "\n",
        "    This approach is based on the Qdrant documentation for checking collection existence and creating collections [1][2].\n",
        "\n",
        "    [1] https://qdrant.tech/documentation/concepts/collections/\n",
        "    [2] https://github.com/qdrant/qdrant/issues/3332\n",
        "    \"\"\"\n",
        "    try:\n",
        "        # Check if the collection exists\n",
        "        collection_info: rest.CollectionInfo = client.get_collection(collection_name)\n",
        "        print(f\"Collection '{collection_name}' already exists.\")\n",
        "        return False\n",
        "    except ValueError:\n",
        "        # Collection doesn't exist, so create it\n",
        "        client.create_collection(\n",
        "            collection_name=collection_name,\n",
        "            vectors_config=rest.VectorParams(size=vector_size, distance=rest.Distance.COSINE)\n",
        "        )\n",
        "        print(f\"Collection '{collection_name}' created successfully.\")\n",
        "        return True\n",
        "\n",
        "# Usage example:\n",
        "qdrant_collection_name = \"extending_context_window_llama_3\"\n",
        "vector_size: int = len(embedding_model.embed_query(\"Sample text\"))  # Get the vector size from your embedding model\n",
        "client = QdrantClient(\":memory:\")  # Use the appropriate client configuration\n",
        "created: bool = create_qdrant_collection_if_not_exists(client, qdrant_collection_name, vector_size)\n",
        "\n",
        "if not created:\n",
        "    # Collection already existed, you might want to update it or use it as is\n",
        "    qdrant_vectorstore = Qdrant(\n",
        "        client=client,\n",
        "        collection_name=qdrant_collection_name,\n",
        "        embedding_function=embedding_model.embed_query\n",
        "    )\n",
        "else:\n",
        "    # New collection was created, proceed with adding documents\n",
        "    qdrant_vectorstore: Qdrant = Qdrant.from_documents(\n",
        "        split_chunks,\n",
        "        embedding_model,\n",
        "        location=\":memory:\",\n",
        "        collection_name=qdrant_collection_name,\n",
        "    )\n",
        "\n",
        "\n",
        "# from langchain_community.vectorstores import Qdrant\n",
        "# qdrant_collection_name:str=\"extending_context_window_llama_3\" \n",
        "# qdrant_vectorstore: Qdrant = Qdrant.from_documents(\n",
        "#     split_chunks,\n",
        "#     embedding_model,\n",
        "#     location=\":memory:\",\n",
        "#     collection_name=qdrant_collection_name,\n",
        "# )\n"
      ]
    },
    {
      "cell_type": "markdown",
      "metadata": {
        "id": "wzGq6o4s79Ar"
      },
      "source": [
        "Let's make sure we can access it as a retriever."
      ]
    },
    {
      "cell_type": "code",
      "execution_count": 10,
      "metadata": {
        "id": "OTnQZbWymi4K"
      },
      "outputs": [],
      "source": [
        "from langchain_core.vectorstores.base import VectorStoreRetriever\n",
        "\n",
        "\n",
        "qdrant_retriever: VectorStoreRetriever = qdrant_vectorstore.as_retriever()"
      ]
    },
    {
      "cell_type": "markdown",
      "metadata": {
        "id": "aU8qSrMS7_D7"
      },
      "source": [
        "### Augmented\n",
        "\n",
        "Now that we have our retrieval process set-up, we need to set up our \"augmentation\" process - AKA a prompt template."
      ]
    },
    {
      "cell_type": "code",
      "execution_count": 11,
      "metadata": {
        "id": "lezTN0zCmk46"
      },
      "outputs": [],
      "source": [
        "from langchain_core.prompts import ChatPromptTemplate\n",
        "\n",
        "RAG_PROMPT = \"\"\"\n",
        "CONTEXT:\n",
        "{context}\n",
        "\n",
        "QUERY:\n",
        "{question}\n",
        "\n",
        "You are a helpful assistant. Use the available context to answer the question. If you can't answer the question, say you don't know.\n",
        "\"\"\"\n",
        "\n",
        "rag_prompt: ChatPromptTemplate = ChatPromptTemplate.from_template(RAG_PROMPT)"
      ]
    },
    {
      "cell_type": "markdown",
      "metadata": {
        "id": "Y9fa63nM7IKK"
      },
      "source": [
        "### Generation\n",
        "\n",
        "Last, but certainly not least, let's put the 'G' in 'RAG' by adding our generator - in this case, we can rely on OpenAI's [`gpt-4o-mini`](https://platform.openai.com/docs/models/gpt-4o-mini) model!"
      ]
    },
    {
      "cell_type": "code",
      "execution_count": 12,
      "metadata": {
        "id": "AwEi29-Jo3a8"
      },
      "outputs": [],
      "source": [
        "from langchain_openai import ChatOpenAI\n",
        "from langchain_core.language_models.chat_models import BaseChatModel\n",
        "# openai_chat_model = ChatOpenAI(model=\"gpt-4o-mini\")\n",
        "openai_chat_model : BaseChatModel = ChatOpenAI(model=\"gpt-4-turbo\")"
      ]
    },
    {
      "cell_type": "markdown",
      "metadata": {
        "id": "qO-ZC0T98XJJ"
      },
      "source": [
        "### RAG - Retrieval Augmented Generation\n",
        "\n",
        "All that's left to do is combine our R, A, and G into a single chain - and we're off!"
      ]
    },
    {
      "cell_type": "code",
      "execution_count": 13,
      "metadata": {
        "id": "nlOJrPm_oT3S"
      },
      "outputs": [],
      "source": [
        "from operator import itemgetter\n",
        "from langchain.schema.output_parser import StrOutputParser\n",
        "from langchain_core.runnables import Runnable, RunnableSerializable\n",
        "from typing import Any,Dict\n",
        "# rag_chain:RunnableSerializable[Any,str] = (\n",
        "rag_chain:RunnableSerializable[Dict[str, str], str] = (\n",
        "    {\"context\": itemgetter(\"question\") | qdrant_retriever, \"question\": itemgetter(\"question\")}\n",
        "    | rag_prompt | openai_chat_model | StrOutputParser()\n",
        ")"
      ]
    },
    {
      "cell_type": "markdown",
      "metadata": {
        "id": "qiWrbXpu8ggz"
      },
      "source": [
        "Let's test this out and make sure it works."
      ]
    },
    {
      "cell_type": "code",
      "execution_count": 14,
      "metadata": {
        "colab": {
          "base_uri": "https://localhost:8080/",
          "height": 104
        },
        "id": "gJhFlW32pBPe",
        "outputId": "9847e13d-7435-4224-d3e5-ac04f8a6f868"
      },
      "outputs": [
        {
          "data": {
            "text/plain": [
              "\"In the provided documents, the term 'context' in 'long context' refers to the amount of textual information or content that a language model can consider at one time when processing or generating text. This is particularly relevant in tasks like question-answering or summarization, where understanding or referencing a larger portion of text can lead to more accurate or relevant outputs. The discussions in the documents involve extending this context length to enhance the capabilities of language models like Llama-3-8B-Instruct to handle longer texts effectively, which is critical for operations on extensive documents like books or detailed technical reports.\""
            ]
          },
          "execution_count": 14,
          "metadata": {},
          "output_type": "execute_result"
        }
      ],
      "source": [
        "rag_chain.invoke({\"question\" : \"What does the 'context' in 'long context' refer to?\"})"
      ]
    },
    {
      "cell_type": "markdown",
      "metadata": {},
      "source": [
        "Here's the dataflow diagram:\n",
        "\n",
        "```plaintext\n",
        "┌─────────────────┐    ┌─────────────────┐    ┌─────────────────┐    ┌─────────────────┐    ┌─────────────────┐\n",
        "│                 │    │                 │    │                 │    │                 │    │                 │\n",
        "│    📥 Input     │ -> │ 🔍 Retriever    │ -> │ 📝 RAG Prompt   │ -> │ 🧠 LLM          │ -> │ 🔤 Output       │\n",
        "│    Question     │    │ (Qdrant)        │    │                 │    │ (OpenAI)        │    │ Parser          │\n",
        "│                 │    │                 │    │                 │    │                 │    │                 │\n",
        "└─────────────────┘    └─────────────────┘    └─────────────────┘    └─────────────────┘    └─────────────────┘\n",
        "```\n",
        "\n",
        "Now, let's go through an example input and see how it's processed step by step:\n",
        "\n",
        "Input: \n",
        "```python\n",
        "{\"question\": \"What does the 'context' in 'long context' refer to?\"}\n",
        "```\n",
        "\n",
        "Step 1: 📥 Input Question\n",
        "- The input dictionary is received by the `rag_chain`.\n",
        "\n",
        "Step 2: 🔍 Retriever (Qdrant)\n",
        "- The question is passed to the Qdrant retriever.\n",
        "- The retriever searches for relevant documents in the vector store.\n",
        "- Let's say it retrieves a chunk of text: \"In the context of 'long context', 'context' refers to the amount of text or information that a language model can process at one time. It pertains to the model's ability to handle larger amounts of input data for tasks like question-answering and summarization.\"\n",
        "\n",
        "Step 3: 📝 RAG Prompt\n",
        "- The retrieved context and the original question are inserted into the RAG prompt template:\n",
        "```\n",
        "CONTEXT:\n",
        "In the context of 'long context', 'context' refers to the amount of text or information that a language model can process at one time. It pertains to the model's ability to handle larger amounts of input data for tasks like question-answering and summarization.\n",
        "\n",
        "QUERY:\n",
        "What does the 'context' in 'long context' refer to?\n",
        "\n",
        "You are a helpful assistant. Use the available context to answer the question. If you can't answer the question, say you don't know.\n",
        "```\n",
        "\n",
        "Step 4: 🧠 LLM (OpenAI)\n",
        "- The formatted prompt is sent to the OpenAI chat model (gpt-4o-mini).\n",
        "- The model generates a response based on the prompt.\n",
        "\n",
        "Step 5: 🔤 Output Parser\n",
        "- The LLM's response is passed through the StrOutputParser.\n",
        "- This ensures the output is a clean string without any additional formatting.\n",
        "\n",
        "Final Output:\n",
        "```\n",
        "\"In the context of 'long context', 'context' refers to the amount of text or information that a language model can process at one time. Specifically, it pertains to the model's ability to handle larger amounts of input data for tasks like question-answering and summarization. The term 'long context' implies an extended capacity for processing more text or information in a single instance compared to models with shorter context lengths.\"\n",
        "```\n",
        "\n",
        "This example demonstrates how the `rag_chain` processes the input question, retrieves relevant information, formats it into a prompt, generates a response using an LLM, and then parses the output to provide a final answer.\n"
      ]
    },
    {
      "cell_type": "markdown",
      "metadata": {
        "id": "gReMizYk8qd-"
      },
      "source": [
        "### RAG Limitation\n",
        "\n",
        "Notice how we're hard-coding our data, while this is simply meant to be an illustrative example - you could easily extend this to work with any provied paper or document in order to have a more dynamic system.\n",
        "\n",
        "For now, we'll stick with this single hard-coded example in order to keep complexity down in an already very long notebook!"
      ]
    },
    {
      "cell_type": "markdown",
      "metadata": {
        "id": "oxkbuir-H5rE"
      },
      "source": [
        "##### 🏗️ Activity #1 (Bonus Marks)\n",
        "\n",
        "Allow the system to dynamically fetch Arxiv papers instead of hard coding them."
      ]
    },
    {
      "cell_type": "code",
      "execution_count": 15,
      "metadata": {},
      "outputs": [],
      "source": [
        "import arxiv\n",
        "from arxiv import Client, Search, Result\n",
        "from typing import List\n",
        "from langchain_core.documents.base import Document\n",
        "import requests\n",
        "import pypdfium2 as pdfium\n",
        "from typing import Dict, Generator, List, Optional\n",
        "\n",
        "def fetch_arxiv_paper(query: str, max_results: int = 1) -> List[Document]:\n",
        "    client: Client = arxiv.Client()\n",
        "    search: Search = arxiv.Search(\n",
        "        query=query,\n",
        "        max_results=max_results,\n",
        "        sort_by=arxiv.SortCriterion.Relevance\n",
        "    )\n",
        "    docs: List[Document] = []\n",
        "    for result in client.results(search):\n",
        "        result: Result\n",
        "        # Download the PDF content\n",
        "        pdf_url: str = result.pdf_url\n",
        "        response: requests.Response = requests.get(pdf_url)\n",
        "        pdf_content: bytes = response.content\n",
        "        \n",
        "        # Use PyPDFium2 to load the PDF content\n",
        "        pdf: pdfium.PdfDocument = pdfium.PdfDocument(pdf_content)\n",
        "        \n",
        "        for page_number in range(len(pdf)):\n",
        "            page: pdfium.PdfPage = pdf[page_number]\n",
        "            text_page: pdfium.PdfTextPage = page.get_textpage()\n",
        "            text_content: str = text_page.get_text_bounded()\n",
        "            docs.append(Document(\n",
        "                page_content=text_content, \n",
        "                metadata={\"source\": pdf_url, \"page\": page_number + 1}\n",
        "            ))\n",
        "        \n",
        "    return docs\n",
        "\n",
        "query: str = \"Extending context window for large language models\"\n",
        "docs: List[Document] = fetch_arxiv_paper(query)"
      ]
    },
    {
      "cell_type": "code",
      "execution_count": 16,
      "metadata": {},
      "outputs": [
        {
          "data": {
            "text/plain": [
              "Document(metadata={'source': 'http://arxiv.org/pdf/2405.18009v1', 'page': 1}, page_content='Exploring Context Window of Large Language Models\\r\\nvia Decomposed Positional Vectors\\r\\nZican Dong1∗, Junyi Li1,3∗, Xin Men4, Wayne Xin Zhao1†, Bingning Wang4\\r\\nZhen Tian1, Weipeng Chen4, Ji-Rong Wen1,2\\r\\n1 Gaoling School of Artificial Intelligence, Renmin University of China\\r\\n2 School of Information, Renmin University of China\\r\\n3 DIRO, Université de Montréal\\r\\n4 Baichuan Inc.\\r\\n{dongzican,lijunyi}@ruc.edu.cn\\r\\nbatmanfly@gmail.com, daniel@baichuan-inc.com\\r\\nAbstract\\r\\nTransformer-based large language models (LLMs) typically have a limited context\\r\\nwindow, resulting in significant performance degradation when processing text\\r\\nbeyond the length of the context window. Extensive studies have been proposed to\\r\\nextend the context window and achieve length extrapolation of LLMs, but there is\\r\\nstill a lack of in-depth interpretation of these approaches. In this study, we explore\\r\\nthe positional information within and beyond the context window for deciphering\\r\\nthe underlying mechanism of LLMs. By using a mean-based decomposition\\r\\nmethod, we disentangle positional vectors from hidden states of LLMs and analyze\\r\\ntheir formation and effect on attention. Furthermore, when texts exceed the context\\r\\nwindow, we analyze the change of positional vectors in two settings, i.e., direct\\r\\nextrapolation and context window extension. Based on our findings, we design two\\r\\ntraining-free context window extension methods, positional vector replacement\\r\\nand attention window extension. Experimental results show that our methods can\\r\\neffectively extend the context window length.\\r\\n1 Introduction\\r\\nRecently, Transformer-based large language models (LLMs) have demonstrated excellent capabilities\\r\\non downstream tasks [1–3], in which positional encodings (e.g., absolute or relative) are widely used\\r\\nin Transformers to better capture positional information within input sequences [4, 5]. However,\\r\\nLLMs typically suffer from a limited input length (called context window), which is constrained by\\r\\nthe maximum length of training data. Beyond the context window, the positional encodings at larger\\r\\nposition indices are out-of-distribution (OOD), not encountered during the training phase. Therefore,\\r\\nwhen the input sequence exceeds the context window length, there would often be a significant\\r\\ndegradation in model performances, as evidenced by a surge in perplexity (PPL) score [6].\\r\\nPrior work has primarily focused on extending the context window of existing LLMs by manipulating\\r\\npositional encodings. Owing to its excellent performance and long-term decay nature, RoPE [7] has\\r\\nbeen widely used to learn positional encodings for existing LLMs [8, 9]. To circumvent the OOD\\r\\npositional encodings in RoPE, various methods have been proposed to modify the base [10–12] or\\r\\npositional indices [13–16]. In addition, special relative positional encodings that apply larger negative\\r\\nbiases to attention based on the relative distance have achieved promising length extrapolation, which\\r\\n∗Equal Contribution.\\r\\n†Corresponding author.\\r\\nPreprint. Under review.\\r\\narXiv:2405.18009v1 [cs.CL] 28 May 2024')"
            ]
          },
          "execution_count": 16,
          "metadata": {},
          "output_type": "execute_result"
        }
      ],
      "source": [
        "len(docs)\n",
        "docs[0]"
      ]
    },
    {
      "cell_type": "markdown",
      "metadata": {
        "id": "7U6a_pqQ9uWf"
      },
      "source": [
        "## Helper Functions for Agent Graphs\n",
        "\n",
        "We'll be using a number of agents, nodes, and supervisors in the rest of the notebook - and so it will help to have a collection of useful helper functions that we can leverage to make our lives easier going forward.\n",
        "\n",
        "Let's start with the most simple one!"
      ]
    },
    {
      "cell_type": "markdown",
      "metadata": {
        "id": "IDUnpEEl-L_F"
      },
      "source": [
        "#### Import Wall\n",
        "\n",
        "Here's a wall of imports we'll be needing going forward!"
      ]
    },
    {
      "cell_type": "code",
      "execution_count": 17,
      "metadata": {
        "id": "TbzoL3Q3-SG1"
      },
      "outputs": [],
      "source": [
        "# NOTE: commented out as I prefer importing in the cells that they \n",
        "# are being used\n",
        "\n",
        "# from typing import Any, Callable, List, Optional, TypedDict, Union\n",
        "# from langchain.agents import AgentExecutor, create_openai_functions_agent\n",
        "# from langchain.output_parsers.openai_functions import JsonOutputFunctionsParser\n",
        "# from langchain_core.prompts import ChatPromptTemplate, MessagesPlaceholder\n",
        "# from langchain_core.messages import AIMessage, BaseMessage, HumanMessage\n",
        "# from langchain_core.runnables import Runnable\n",
        "# from langchain_core.tools import BaseTool\n",
        "# from langchain_openai import ChatOpenAI\n",
        "\n",
        "# from langgraph.graph import END, StateGraph"
      ]
    },
    {
      "cell_type": "markdown",
      "metadata": {
        "id": "qb6Z3EEz-Asi"
      },
      "source": [
        "### Agent Node Helper\n",
        "\n",
        "Since we're going to be wrapping each of our agents into a node - it will help to have an easy way to create the node!"
      ]
    },
    {
      "cell_type": "code",
      "execution_count": 18,
      "metadata": {
        "id": "5IF7KWfS-JKd"
      },
      "outputs": [],
      "source": [
        "from typing import Dict, List, Any\n",
        "from langchain_core.messages import HumanMessage\n",
        "from langchain.agents import AgentExecutor\n",
        "\n",
        "def agent_node(\n",
        "    state: Dict[str, Any],\n",
        "    agent: AgentExecutor,\n",
        "    name: str\n",
        ") -> Dict[str, List[HumanMessage]]:\n",
        "    result: Dict[str, str] = agent.invoke(state)\n",
        "    return {\"messages\": [HumanMessage(content=result[\"output\"], name=name)]}"
      ]
    },
    {
      "cell_type": "markdown",
      "metadata": {
        "id": "fwND2teK-WHm"
      },
      "source": [
        "### Agent Creation Helper Function\n",
        "\n",
        "Since we know we'll need to create agents to populate our agent nodes, let's use a helper function for that as well!\n",
        "\n",
        "Notice a few things:\n",
        "\n",
        "1. We have a standard suffix to append to our system messages for each agent to handle the tool calling and boilerplate prompting.\n",
        "2. Each agent has its our scratchpad.\n",
        "3. We're relying on OpenAI's function-calling API for tool selection\n",
        "4. Each agent is its own executor."
      ]
    },
    {
      "cell_type": "code",
      "execution_count": 19,
      "metadata": {
        "id": "NxLyHJt5-eUx"
      },
      "outputs": [],
      "source": [
        "from typing import List\n",
        "from langchain_core.prompts.chat import ChatPromptTemplate\n",
        "from langchain_openai import ChatOpenAI\n",
        "from langchain.agents import AgentExecutor, create_openai_functions_agent\n",
        "from langchain_core.tools import BaseTool\n",
        "from langchain_core.prompts import MessagesPlaceholder\n",
        "from langchain_core.runnables import Runnable\n",
        "from langchain_core.language_models.chat_models import BaseChatModel\n",
        "def create_agent(\n",
        "    llm: BaseChatModel,\n",
        "    tools: List[BaseTool],\n",
        "    system_prompt: str,\n",
        ") -> AgentExecutor:\n",
        "    \"\"\"Create a function-calling agent and add it to the graph.\"\"\"\n",
        "    system_prompt += (\"\\nWork autonomously according to your specialty, using the tools available to you.\"\n",
        "    \" Do not ask for clarification.\"\n",
        "    \" Your other team members (and other teams) will collaborate with you with their own specialties.\"\n",
        "    \" You are chosen for a reason! You are one of the following team members: {team_members}.\")\n",
        "    prompt: ChatPromptTemplate = ChatPromptTemplate.from_messages(\n",
        "        [\n",
        "            (\n",
        "                \"system\",\n",
        "                system_prompt,\n",
        "            ),\n",
        "            MessagesPlaceholder(variable_name=\"messages\"),\n",
        "            MessagesPlaceholder(variable_name=\"agent_scratchpad\"),\n",
        "        ]\n",
        "    )\n",
        "    agent: Runnable = create_openai_functions_agent(llm, tools, prompt)\n",
        "    executor: AgentExecutor = AgentExecutor(agent=agent, tools=tools)\n",
        "    return executor"
      ]
    },
    {
      "cell_type": "markdown",
      "metadata": {
        "id": "S6kmlR9d-1K5"
      },
      "source": [
        "### Supervisor Helper Function\n",
        "\n",
        "Finally, we need a \"supervisor\" that decides and routes tasks to specific agents.\n",
        "\n",
        "Since each \"team\" will have a collection of potential agents - this \"supervisor\" will act as an \"intelligent\" router to make sure that the right agent is selected for the right task.\n",
        "\n",
        "Notice that, at the end of the day, this \"supervisor\" is simply directing who acts next - or if the state is considered \"done\"."
      ]
    },
    {
      "cell_type": "code",
      "execution_count": 20,
      "metadata": {
        "id": "S2MXA83mrYE2"
      },
      "outputs": [],
      "source": [
        "from typing import List, Dict, Any\n",
        "from langchain_core.prompts import ChatPromptTemplate, MessagesPlaceholder\n",
        "from langchain_openai import ChatOpenAI\n",
        "from langchain.output_parsers.openai_functions import JsonOutputFunctionsParser\n",
        "from langchain_core.runnables import RunnableSerializable\n",
        "\n",
        "def create_team_supervisor(\n",
        "    llm: ChatOpenAI,\n",
        "    system_prompt: str,\n",
        "    members: List[str]\n",
        ") -> RunnableSerializable[Dict[str, Any], Dict[str, str]]:\n",
        "    options: List[str] = [\"FINISH\"] + members\n",
        "    function_def: Dict[str, Any] = {\n",
        "        \"name\": \"route\",\n",
        "        \"description\": \"Select the next role.\",\n",
        "        \"parameters\": {\n",
        "            \"title\": \"routeSchema\",\n",
        "            \"type\": \"object\",\n",
        "            \"properties\": {\n",
        "                \"next\": {\n",
        "                    \"title\": \"Next\",\n",
        "                    \"anyOf\": [\n",
        "                        {\"enum\": options},\n",
        "                    ],\n",
        "                },\n",
        "            },\n",
        "            \"required\": [\"next\"],\n",
        "        },\n",
        "    }\n",
        "    \n",
        "    prompt: ChatPromptTemplate = ChatPromptTemplate.from_messages(\n",
        "        [\n",
        "            (\"system\", system_prompt),\n",
        "            MessagesPlaceholder(variable_name=\"messages\"),\n",
        "            (\n",
        "                \"system\",\n",
        "                \"Given the conversation above, who should act next?\"\n",
        "                \" Or should we FINISH? Select one of: {options}\",\n",
        "            ),\n",
        "        ]\n",
        "    ).partial(options=str(options), team_members=\", \".join(members))\n",
        "    \n",
        "    return (\n",
        "        prompt\n",
        "        # NOTE: bind_functions only exists for openai models and is not part of BaseChatModel\n",
        "        | llm.bind_functions(functions=[function_def], function_call=\"route\")\n",
        "        | JsonOutputFunctionsParser()\n",
        "    )"
      ]
    },
    {
      "cell_type": "markdown",
      "metadata": {
        "id": "jd0zfyq48jKb"
      },
      "source": [
        "## Research Team - A LangGraph for Researching A Specific Topic\n",
        "\n",
        "Now that we have our RAG chain set-up and some awesome helper functions, we want to create a LangGraph related to researching a specific topic.\n",
        "\n",
        "We're going to start by equipping our Research Team with a few tools:\n",
        "\n",
        "1. Tavily Search - aka \"Google\", for the most up to date information possible.\n",
        "2. Our RAG chain - specific and high quality information about our topic.\n",
        "\n",
        "Let's create those tools now!"
      ]
    },
    {
      "cell_type": "markdown",
      "metadata": {
        "id": "VNsVTZrH_alw"
      },
      "source": [
        "### Tool Creation\n",
        "\n",
        "As you can see below, some tools already come pre-packaged ready to use!"
      ]
    },
    {
      "cell_type": "code",
      "execution_count": 21,
      "metadata": {
        "id": "ce7FKTZDgAWG"
      },
      "outputs": [],
      "source": [
        "from langchain_community.tools.tavily_search import TavilySearchResults\n",
        "\n",
        "tavily_tool = TavilySearchResults(max_results=5)"
      ]
    },
    {
      "cell_type": "markdown",
      "metadata": {},
      "source": [
        "There is a bug  with `TavilySearchResults` as of `langchain-community` version\n",
        "`0.2.15`. In case your API key is not correct, it just shows a message like the\n",
        "following when you call `invoke()` on it:\n",
        "\n",
        "```json\n",
        "{\n",
        "  \"content\": \"HTTPError(401 Client Error: Unauthorized for url: https://api.tavily.com/search)\",\n",
        "  \"additional_kwargs\": {},\n",
        "  \"response_metadata\": {},\n",
        "  \"type\": \"tool\",\n",
        "  \"name\": \"tavily_search_results_json\",\n",
        "  \"id\": null,\n",
        "  \"tool_call_id\": \"foo\",\n",
        "  \"artifact\": {},\n",
        "  \"status\": \"success\"\n",
        "}\n",
        "\n",
        "```\n",
        "\n",
        "As you can notice, it thinks `\"status\": \"success\"` so it won't raise an\n",
        "exception.\n",
        "\n",
        "\n",
        "The following section runs a basic check to ensure there are no errors while\n",
        "taking this bug into account."
      ]
    },
    {
      "cell_type": "code",
      "execution_count": 22,
      "metadata": {},
      "outputs": [
        {
          "name": "stdout",
          "output_type": "stream",
          "text": [
            "Tavily search successful:\n",
            "{\"content\": \"[{\\\"url\\\": \\\"https://www.topendsports.com/events/tennis-grand-slam/french-open/winners-men.htm\\\", \\\"content\\\": \\\"Here are all the winners of the French Tennis Open men's title since the first tournament in 1925. The recent tournaments have been dominated by Spanish player Rafael Nadal. ... He now has 14 French Open men's singles titles (the last in 2022). See also the Women's Singles Results. Year Winner 2nd Score; 2024: Carlos Alcaraz (Spain) Alexander ...\\\"}, {\\\"url\\\": \\\"https://apnews.com/article/djokovic-ruud-french-open-roland-garros-final-d7bda9f570b010ea48cf8a05b397291e\\\", \\\"content\\\": \\\"Novak Djokovic wins his 23rd Grand Slam title by beating Casper Ruud in the French Open final\\\\nSerbia\\\\u2019s Novak Djokovic celebrates winning the men\\\\u2019s singles final match of the French Open tennis tournament against Norway\\\\u2019s Casper Ruud in three sets, 7-6, (7-1), 6-3, 7-5, at the Roland Garros stadium in Paris, Sunday, June 11, 2023. Serbia\\\\u2019s Novak Djokovic wears the number 23 on his garment for his 23rd Grand Slam Singles title as he kisses the trophy after winning the men\\\\u2019s singles final match of the French Open tennis tournament against Norway\\\\u2019s Casper Ruud in three sets, 7-6, (7-1), 6-3, 7-5, at the Roland Garros stadium in Paris, Sunday, June 11, 2023. Serbia\\\\u2019s Novak Djokovic wears the number 23 on his garment for his 23rd Grand Slam Singles title as he kisses the trophy after winning the men\\\\u2019s singles final match of the French Open tennis tournament against Norway\\\\u2019s Casper Ruud in three sets, 7-6, (7-1), 6-3, 7-5, at the Roland Garros stadium in Paris, Sunday, June 11, 2023. Serbia\\\\u2019s Novak Djokovic wears the number 23 on his garment for his 23rd Grand Slam Singles title as he kisses the trophy after winning the men\\\\u2019s singles final match of the French Open tennis tournament against Norway\\\\u2019s Casper Ruud in three sets, 7-6, (7-1), 6-3, 7-5, at the Roland Garros stadium in Paris, Sunday, June 11, 2023. Serbia\\\\u2019s Novak Djokovic kisses the trophy as he celebrates winning the men\\\\u2019s singles final match of the French Open tennis tournament against Norway\\\\u2019s Casper Ruud in three sets, 7-6, (7-1), 6-3, 7-5, at the Roland Garros stadium in Paris, Sunday, June 11, 2023.\\\"}, {\\\"url\\\": \\\"https://www.npr.org/2024/06/09/nx-s1-4997726/carlos-alcaraz-wins-french-open-third-grand-slam-title\\\", \\\"content\\\": \\\"PARIS \\\\u2014 As Carlos Alcaraz began constructing his comeback in Sunday's French Open final, a 6-3, 2-6, 5-7, 6-1, 6-2 victory over Alexander Zverev for a first championship at Roland Garros and ...\\\"}]\", \"additional_kwargs\": {}, \"response_metadata\": {}, \"type\": \"tool\", \"name\": \"tavily_search_results_json\", \"id\": null, \"tool_call_id\": \"foo\", \"artifact\": {\"query\": \"who won the last french open\", \"follow_up_questions\": null, \"answer\": \"Novak Djokovic won the last French Open in 2023.\", \"images\": [], \"results\": [{\"title\": \"Winners of the Men's French Open - Topend Sports\", \"url\": \"https://www.topendsports.com/events/tennis-grand-slam/french-open/winners-men.htm\", \"content\": \"Here are all the winners of the French Tennis Open men's title since the first tournament in 1925. The recent tournaments have been dominated by Spanish player Rafael Nadal. ... He now has 14 French Open men's singles titles (the last in 2022). See also the Women's Singles Results. Year Winner 2nd Score; 2024: Carlos Alcaraz (Spain) Alexander ...\", \"score\": 0.9933589, \"raw_content\": \"Home > Events > Tennis > Grand Slam > French Open > Winners > Men\\nWinners of the Men's French Open\\nHere are all the winners of the French Tennis Open men's title since the first tournament in 1925. The recent tournaments have been dominated by Spanish player Rafael Nadal, with his wins in 2017 to 2020, Nadal now has thirteen French Open men's singles titles. See also the Women's Singles Results.\\nRelated Pages\\nSearch This Site\\nTennis Extra\\nTennis is one of the most popular sports in the world. Players must focus on Fitness, Nutrition and Psychology. Who is the greatest ever, the fittest ever? It might be Federer, but Nadal and Williams have the most grand slam wins.\\nMajor Events Extra\\nThe largest sporting event in the world is the Olympic Games, but there are many other multi-sport games. In terms of single sport events, nothing beats the FIFA World Cup. To see what's coming up, check out the calendar of major sporting events.\\nLatest Pages\\nCurrent Events\\nPopular Pages\\nLatest Sports Added\\n\\u2192 How to Cite\\nPAGES\\nhome\\nsearch\\nsitemap\\nstore\\nSOCIAL MEDIA\\nnewsletter\\nfacebook\\nX (twitter)\\nSECURITY\\nprivacy policy\\ndisclaimer\\ncopyright\\nABOUT\\ncontact\\nauthor info\\nadvertising\\n\\u00a91997-2024 Topend Sports Network\"}, {\"title\": \"Novak Djokovic wins his 23rd Grand Slam title by beating Casper Ruud in ...\", \"url\": \"https://apnews.com/article/djokovic-ruud-french-open-roland-garros-final-d7bda9f570b010ea48cf8a05b397291e\", \"content\": \"Novak Djokovic wins his 23rd Grand Slam title by beating Casper Ruud in the French Open final\\nSerbia\\u2019s Novak Djokovic celebrates winning the men\\u2019s singles final match of the French Open tennis tournament against Norway\\u2019s Casper Ruud in three sets, 7-6, (7-1), 6-3, 7-5, at the Roland Garros stadium in Paris, Sunday, June 11, 2023. Serbia\\u2019s Novak Djokovic wears the number 23 on his garment for his 23rd Grand Slam Singles title as he kisses the trophy after winning the men\\u2019s singles final match of the French Open tennis tournament against Norway\\u2019s Casper Ruud in three sets, 7-6, (7-1), 6-3, 7-5, at the Roland Garros stadium in Paris, Sunday, June 11, 2023. Serbia\\u2019s Novak Djokovic wears the number 23 on his garment for his 23rd Grand Slam Singles title as he kisses the trophy after winning the men\\u2019s singles final match of the French Open tennis tournament against Norway\\u2019s Casper Ruud in three sets, 7-6, (7-1), 6-3, 7-5, at the Roland Garros stadium in Paris, Sunday, June 11, 2023. Serbia\\u2019s Novak Djokovic wears the number 23 on his garment for his 23rd Grand Slam Singles title as he kisses the trophy after winning the men\\u2019s singles final match of the French Open tennis tournament against Norway\\u2019s Casper Ruud in three sets, 7-6, (7-1), 6-3, 7-5, at the Roland Garros stadium in Paris, Sunday, June 11, 2023. Serbia\\u2019s Novak Djokovic kisses the trophy as he celebrates winning the men\\u2019s singles final match of the French Open tennis tournament against Norway\\u2019s Casper Ruud in three sets, 7-6, (7-1), 6-3, 7-5, at the Roland Garros stadium in Paris, Sunday, June 11, 2023.\", \"score\": 0.99055094, \"raw_content\": \"Copyright 2023 The Associated Press. All Rights Reserved.\\nNovak Djokovic wins his 23rd Grand Slam title by beating Casper Ruud in the French Open final\\nSerbia\\u2019s Novak Djokovic celebrates winning the men\\u2019s singles final match of the French Open tennis tournament against Norway\\u2019s Casper Ruud in three sets, 7-6, (7-1), 6-3, 7-5, at the Roland Garros stadium in Paris, Sunday, June 11, 2023. Djokovic won his record 23rd Grand Slam singles title, breaking a tie with Rafael Nadal for the most by a man. (AP Photo/Thibault Camus)\\nSerbia\\u2019s Novak Djokovic celebrates winning the men\\u2019s singles final match of the French Open tennis tournament against Norway\\u2019s Casper Ruud in three sets, 7-6, (7-1), 6-3, 7-5, at the Roland Garros stadium in Paris, Sunday, June 11, 2023. Djokovic won his record 23rd Grand Slam singles title, breaking a tie with Rafael Nadal for the most by a man. (AP Photo/Thibault Camus)\\nSerbia\\u2019s Novak Djokovic reacts after winning the men\\u2019s singles final match of the French Open tennis tournament against Norway\\u2019s Casper Ruud in three sets, 7-6, (7-1), 6-3, 7-5, at the Roland Garros stadium in Paris, Sunday, June 11, 2023. Djokovic won his record 23rd Grand Slam singles title, breaking a tie with Rafael Nadal for the most by a man. (AP Photo/Aurelien Morissard)\\nSerbia\\u2019s Novak Djokovic, left, celebrates winning the men\\u2019s singles final match of the French Open tennis tournament against Norway\\u2019s Casper Ruud, right, in three sets, 7-6, (7-1), 6-3, 7-5, at the Roland Garros stadium in Paris, Sunday, June 11, 2023. Djokovic won his record 23rd Grand Slam singles title, breaking a tie with Rafael Nadal for the most by a man. (AP Photo/Thibault Camus)\\nAmerican former football quarterback Tom Brady, up, second from left, watches the final match of the French Open tennis tournament between Serbia\\u2019s Novak Djokovic and Norway\\u2019s Casper Ruud at the Roland Garros stadium in Paris, Sunday, June 11, 2023. (AP Photo/Jean-Francois Badias)\\nSerbia\\u2019s Novak Djokovic is congratulated after winning the men\\u2019s singles final match of the French Open tennis tournament against Norway\\u2019s Casper Ruud in three sets, 7-6, (7-1), 6-3, 7-5, at the Roland Garros stadium in Paris, Sunday, June 11, 2023. Djokovic won his record 23rd Grand Slam singles title, breaking a tie with Rafael Nadal for the most by a man. (AP Photo/Jean-Francois Badias)\\nNorway\\u2019s Casper Ruud reacts after missing a shot against Serbia\\u2019s Novak Djokovic during the men\\u2019s singles final match of the French Open tennis tournament at the Roland Garros stadium in Paris, Sunday, June 11, 2023. (AP Photo/Christophe Ena)\\nSerbia\\u2019s Novak Djokovic celebrates winning the men\\u2019s singles final match of the French Open tennis tournament against Norway\\u2019s Casper Ruud in three sets, 7-6, (7-1), 6-3, 7-5, at the Roland Garros stadium in Paris, Sunday, June 11, 2023. Djokovic won his record 23rd Grand Slam singles title, breaking a tie with Rafael Nadal for the most by a man. (AP Photo/Christophe Ena)\\nSerbia\\u2019s Novak Djokovic kisses the trophy as he celebrates winning the men\\u2019s singles final match of the French Open tennis tournament against Norway\\u2019s Casper Ruud in three sets, 7-6, (7-1), 6-3, 7-5, at the Roland Garros stadium in Paris, Sunday, June 11, 2023. Djokovic won his record 23rd Grand Slam singles title, breaking a tie with Rafael Nadal for the most by a man. (AP Photo/Christophe Ena)\\nSerbia\\u2019s Novak Djokovic, right, greets Norway\\u2019s Casper Ruud after winning the men\\u2019s singles final match of the French Open tennis tournament against him in three sets, 7-6, (7-1), 6-3, 7-5, at the Roland Garros stadium in Paris, Sunday, June 11, 2023. Djokovic won his record 23rd Grand Slam singles title, breaking a tie with Rafael Nadal for the most by a man. (AP Photo/Aurelien Morissard)\\nSerbia\\u2019s Novak Djokovic celebrates winning the men\\u2019s singles final match of the French Open tennis tournament against Norway\\u2019s Casper Ruud in three sets, 7-6, (7-1), 6-3, 7-5, at the Roland Garros stadium in Paris, Sunday, June 11, 2023. Djokovic won his record 23rd Grand Slam singles title, breaking a tie with Rafael Nadal for the most by a man. (AP Photo/Thibault Camus)\\nSerbia\\u2019s Novak Djokovic celebrates winning the men\\u2019s singles final match of the French Open tennis tournament against Norway\\u2019s Casper Ruud in three sets, 7-6, (7-1), 6-3, 7-5, at the Roland Garros stadium in Paris, Sunday, June 11, 2023. Djokovic won his record 23rd Grand Slam singles title, breaking a tie with Rafael Nadal for the most by a man. (AP Photo/Christophe Ena)\\nSerbia\\u2019s Novak Djokovic hugs his coach Goran Ivanisevic as he celebrates winning the men\\u2019s singles final match of the French Open tennis tournament against Norway\\u2019s Casper Ruud in three sets, 7-6, (7-1), 6-3, 7-5, at the Roland Garros stadium in Paris, Sunday, June 11, 2023. Djokovic won his record 23rd Grand Slam singles title, breaking a tie with Rafael Nadal for the most by a man. (AP Photo/Thibault Camus)\\nSerbia\\u2019s Novak Djokovic reacts during his final match of the French Open tennis tournament against Norway\\u2019s Casper Ruud at the Roland Garros stadium in Paris, Sunday, June 11, 2023. (AP Photo/Aurelien Morissard)\\nSerbia\\u2019s Novak Djokovic reacts during his final match of the French Open tennis tournament against Norway\\u2019s Casper Ruud at the Roland Garros stadium in Paris, Sunday, June 11, 2023. (AP Photo/Aurelien Morissard)\\nNorway\\u2019s Casper Ruud plays a shot against Serbia\\u2019s Novak Djokovic during their final match of the French Open tennis tournament at the Roland Garros stadium in Paris, Sunday, June 11, 2023. (AP Photo/Jean-Francois Badias)\\nSerbia\\u2019s Novak Djokovic celebrates winning the men\\u2019s singles final match of the French Open tennis tournament against Norway\\u2019s Casper Ruud in three sets, 7-6, (7-1), 6-3, 7-5, at the Roland Garros stadium in Paris, Sunday, June 11, 2023. Djokovic won his record 23rd Grand Slam singles title, breaking a tie with Rafael Nadal for the most by a man. (AP Photo/Christophe Ena)\\nNorway\\u2019s Casper Ruud plays a shot against Serbia\\u2019s Novak Djokovic during their final match of the French Open tennis tournament at the Roland Garros stadium in Paris, Sunday, June 11, 2023. (AP Photo/Jean-Francois Badias)\\nSerbia\\u2019s Novak Djokovic celebrates winning the men\\u2019s singles final match of the French Open tennis tournament against Norway\\u2019s Casper Ruud in three sets, 7-6, (7-1), 6-3, 7-5, at the Roland Garros stadium in Paris, Sunday, June 11, 2023. Djokovic won his record 23rd Grand Slam singles title, breaking a tie with Rafael Nadal for the most by a man. (AP Photo/Christophe Ena)\\nSerbia\\u2019s Novak Djokovic wears the number 23 on his garment for his 23rd Grand Slam Singles title as he kisses the trophy after winning the men\\u2019s singles final match of the French Open tennis tournament against Norway\\u2019s Casper Ruud in three sets, 7-6, (7-1), 6-3, 7-5, at the Roland Garros stadium in Paris, Sunday, June 11, 2023. Djokovic won his record 23rd Grand Slam singles title, breaking a tie with Rafael Nadal for the most by a man. (AP Photo/Christophe Ena)\\nSerbia\\u2019s Novak Djokovic poses with fans as he celebrates winning the men\\u2019s singles final match of the French Open tennis tournament against Norway\\u2019s Casper Ruud in three sets, 7-6, (7-1), 6-3, 7-5, at the Roland Garros stadium in Paris, Sunday, June 11, 2023. Djokovic won his record 23rd Grand Slam singles title, breaking a tie with Rafael Nadal for the most by a man. (AP Photo/Thibault Camus)\\nSerbia\\u2019s Novak Djokovic kisses the trophy as he celebrates winning the men\\u2019s singles final match of the French Open tennis tournament against Norway\\u2019s Casper Ruud in three sets, 7-6, (7-1), 6-3, 7-5, at the Roland Garros stadium in Paris, Sunday, June 11, 2023. Djokovic won his record 23rd Grand Slam singles title, breaking a tie with Rafael Nadal for the most by a man. (AP Photo/Christophe Ena)\\nSerbia\\u2019s Novak Djokovic takes images with fans as he celebrates winning the men\\u2019s singles final match of the French Open tennis tournament against Norway\\u2019s Casper Ruud in three sets, 7-6, (7-1), 6-3, 7-5, at the Roland Garros stadium in Paris, Sunday, June 11, 2023. Djokovic won his record 23rd Grand Slam singles title, breaking a tie with Rafael Nadal for the most by a man. (AP Photo/Christophe Ena)\\nSerbia\\u2019s Novak Djokovic celebrates winning the men\\u2019s singles final match of the French Open tennis tournament against Norway\\u2019s Casper Ruud in three sets, 7-6, (7-1), 6-3, 7-5, at the Roland Garros stadium in Paris, Sunday, June 11, 2023. Djokovic won his record 23rd Grand Slam singles title, breaking a tie with Rafael Nadal for the most by a man. (AP Photo/Thibault Camus)\\nSerbia\\u2019s Novak Djokovic celebrates winning the men\\u2019s singles final match of the French Open tennis tournament against Norway\\u2019s Casper Ruud in three sets, 7-6, (7-1), 6-3, 7-5, at the Roland Garros stadium in Paris, Sunday, June 11, 2023. Djokovic won his record 23rd Grand Slam singles title, breaking a tie with Rafael Nadal for the most by a man. (AP Photo/Thibault Camus)\\nSerbia\\u2019s Novak Djokovic celebrates winning the men\\u2019s singles final match of the French Open tennis tournament against Norway\\u2019s Casper Ruud in three sets, 7-6, (7-1), 6-3, 7-5, at the Roland Garros stadium in Paris, Sunday, June 11, 2023. Djokovic won his record 23rd Grand Slam singles title, breaking a tie with Rafael Nadal for the most by a man. (AP Photo/Thibault Camus)\\nSerbia\\u2019s Novak Djokovic celebrates winning the men\\u2019s singles final match of the French Open tennis tournament against Norway\\u2019s Casper Ruud in three sets, 7-6, (7-1), 6-3, 7-5, at the Roland Garros stadium in Paris, Sunday, June 11, 2023. Djokovic won his record 23rd Grand Slam singles title, breaking a tie with Rafael Nadal for the most by a man. (AP Photo/Thibault Camus)\\nSerbia\\u2019s Novak Djokovic reacts after winning the men\\u2019s singles final match of the French Open tennis tournament against Norway\\u2019s Casper Ruud in three sets, 7-6, (7-1), 6-3, 7-5, at the Roland Garros stadium in Paris, Sunday, June 11, 2023. Djokovic won his record 23rd Grand Slam singles title, breaking a tie with Rafael Nadal for the most by a man. (AP Photo/Aurelien Morissard)\\nSerbia\\u2019s Novak Djokovic reacts after winning the men\\u2019s singles final match of the French Open tennis tournament against Norway\\u2019s Casper Ruud in three sets, 7-6, (7-1), 6-3, 7-5, at the Roland Garros stadium in Paris, Sunday, June 11, 2023. Djokovic won his record 23rd Grand Slam singles title, breaking a tie with Rafael Nadal for the most by a man. (AP Photo/Aurelien Morissard)\\nSerbia\\u2019s Novak Djokovic, left, celebrates winning the men\\u2019s singles final match of the French Open tennis tournament against Norway\\u2019s Casper Ruud, right, in three sets, 7-6, (7-1), 6-3, 7-5, at the Roland Garros stadium in Paris, Sunday, June 11, 2023. Djokovic won his record 23rd Grand Slam singles title, breaking a tie with Rafael Nadal for the most by a man. (AP Photo/Thibault Camus)\\nSerbia\\u2019s Novak Djokovic, left, celebrates winning the men\\u2019s singles final match of the French Open tennis tournament against Norway\\u2019s Casper Ruud, right, in three sets, 7-6, (7-1), 6-3, 7-5, at the Roland Garros stadium in Paris, Sunday, June 11, 2023. Djokovic won his record 23rd Grand Slam singles title, breaking a tie with Rafael Nadal for the most by a man. (AP Photo/Thibault Camus)\\nAmerican former football quarterback Tom Brady, up, second from left, watches the final match of the French Open tennis tournament between Serbia\\u2019s Novak Djokovic and Norway\\u2019s Casper Ruud at the Roland Garros stadium in Paris, Sunday, June 11, 2023. (AP Photo/Jean-Francois Badias)\\nAmerican former football quarterback Tom Brady, up, second from left, watches the final match of the French Open tennis tournament between Serbia\\u2019s Novak Djokovic and Norway\\u2019s Casper Ruud at the Roland Garros stadium in Paris, Sunday, June 11, 2023. (AP Photo/Jean-Francois Badias)\\nSerbia\\u2019s Novak Djokovic is congratulated after winning the men\\u2019s singles final match of the French Open tennis tournament against Norway\\u2019s Casper Ruud in three sets, 7-6, (7-1), 6-3, 7-5, at the Roland Garros stadium in Paris, Sunday, June 11, 2023. Djokovic won his record 23rd Grand Slam singles title, breaking a tie with Rafael Nadal for the most by a man. (AP Photo/Jean-Francois Badias)\\nSerbia\\u2019s Novak Djokovic is congratulated after winning the men\\u2019s singles final match of the French Open tennis tournament against Norway\\u2019s Casper Ruud in three sets, 7-6, (7-1), 6-3, 7-5, at the Roland Garros stadium in Paris, Sunday, June 11, 2023. Djokovic won his record 23rd Grand Slam singles title, breaking a tie with Rafael Nadal for the most by a man. (AP Photo/Jean-Francois Badias)\\nNorway\\u2019s Casper Ruud reacts after missing a shot against Serbia\\u2019s Novak Djokovic during the men\\u2019s singles final match of the French Open tennis tournament at the Roland Garros stadium in Paris, Sunday, June 11, 2023. (AP Photo/Christophe Ena)\\nNorway\\u2019s Casper Ruud reacts after missing a shot against Serbia\\u2019s Novak Djokovic during the men\\u2019s singles final match of the French Open tennis tournament at the Roland Garros stadium in Paris, Sunday, June 11, 2023. (AP Photo/Christophe Ena)\\nSerbia\\u2019s Novak Djokovic celebrates winning the men\\u2019s singles final match of the French Open tennis tournament against Norway\\u2019s Casper Ruud in three sets, 7-6, (7-1), 6-3, 7-5, at the Roland Garros stadium in Paris, Sunday, June 11, 2023. Djokovic won his record 23rd Grand Slam singles title, breaking a tie with Rafael Nadal for the most by a man. (AP Photo/Christophe Ena)\\nSerbia\\u2019s Novak Djokovic celebrates winning the men\\u2019s singles final match of the French Open tennis tournament against Norway\\u2019s Casper Ruud in three sets, 7-6, (7-1), 6-3, 7-5, at the Roland Garros stadium in Paris, Sunday, June 11, 2023. Djokovic won his record 23rd Grand Slam singles title, breaking a tie with Rafael Nadal for the most by a man. (AP Photo/Christophe Ena)\\nSerbia\\u2019s Novak Djokovic kisses the trophy as he celebrates winning the men\\u2019s singles final match of the French Open tennis tournament against Norway\\u2019s Casper Ruud in three sets, 7-6, (7-1), 6-3, 7-5, at the Roland Garros stadium in Paris, Sunday, June 11, 2023. Djokovic won his record 23rd Grand Slam singles title, breaking a tie with Rafael Nadal for the most by a man. (AP Photo/Christophe Ena)\\nSerbia\\u2019s Novak Djokovic kisses the trophy as he celebrates winning the men\\u2019s singles final match of the French Open tennis tournament against Norway\\u2019s Casper Ruud in three sets, 7-6, (7-1), 6-3, 7-5, at the Roland Garros stadium in Paris, Sunday, June 11, 2023. Djokovic won his record 23rd Grand Slam singles title, breaking a tie with Rafael Nadal for the most by a man. (AP Photo/Christophe Ena)\\nSerbia\\u2019s Novak Djokovic, right, greets Norway\\u2019s Casper Ruud after winning the men\\u2019s singles final match of the French Open tennis tournament against him in three sets, 7-6, (7-1), 6-3, 7-5, at the Roland Garros stadium in Paris, Sunday, June 11, 2023. Djokovic won his record 23rd Grand Slam singles title, breaking a tie with Rafael Nadal for the most by a man. (AP Photo/Aurelien Morissard)\\nSerbia\\u2019s Novak Djokovic, right, greets Norway\\u2019s Casper Ruud after winning the men\\u2019s singles final match of the French Open tennis tournament against him in three sets, 7-6, (7-1), 6-3, 7-5, at the Roland Garros stadium in Paris, Sunday, June 11, 2023. Djokovic won his record 23rd Grand Slam singles title, breaking a tie with Rafael Nadal for the most by a man. (AP Photo/Aurelien Morissard)\\nSerbia\\u2019s Novak Djokovic celebrates winning the men\\u2019s singles final match of the French Open tennis tournament against Norway\\u2019s Casper Ruud in three sets, 7-6, (7-1), 6-3, 7-5, at the Roland Garros stadium in Paris, Sunday, June 11, 2023. Djokovic won his record 23rd Grand Slam singles title, breaking a tie with Rafael Nadal for the most by a man. (AP Photo/Thibault Camus)\\nSerbia\\u2019s Novak Djokovic celebrates winning the men\\u2019s singles final match of the French Open tennis tournament against Norway\\u2019s Casper Ruud in three sets, 7-6, (7-1), 6-3, 7-5, at the Roland Garros stadium in Paris, Sunday, June 11, 2023. Djokovic won his record 23rd Grand Slam singles title, breaking a tie with Rafael Nadal for the most by a man. (AP Photo/Thibault Camus)\\nSerbia\\u2019s Novak Djokovic celebrates winning the men\\u2019s singles final match of the French Open tennis tournament against Norway\\u2019s Casper Ruud in three sets, 7-6, (7-1), 6-3, 7-5, at the Roland Garros stadium in Paris, Sunday, June 11, 2023. Djokovic won his record 23rd Grand Slam singles title, breaking a tie with Rafael Nadal for the most by a man. (AP Photo/Christophe Ena)\\nSerbia\\u2019s Novak Djokovic celebrates winning the men\\u2019s singles final match of the French Open tennis tournament against Norway\\u2019s Casper Ruud in three sets, 7-6, (7-1), 6-3, 7-5, at the Roland Garros stadium in Paris, Sunday, June 11, 2023. Djokovic won his record 23rd Grand Slam singles title, breaking a tie with Rafael Nadal for the most by a man. (AP Photo/Christophe Ena)\\nSerbia\\u2019s Novak Djokovic hugs his coach Goran Ivanisevic as he celebrates winning the men\\u2019s singles final match of the French Open tennis tournament against Norway\\u2019s Casper Ruud in three sets, 7-6, (7-1), 6-3, 7-5, at the Roland Garros stadium in Paris, Sunday, June 11, 2023. Djokovic won his record 23rd Grand Slam singles title, breaking a tie with Rafael Nadal for the most by a man. (AP Photo/Thibault Camus)\\nSerbia\\u2019s Novak Djokovic hugs his coach Goran Ivanisevic as he celebrates winning the men\\u2019s singles final match of the French Open tennis tournament against Norway\\u2019s Casper Ruud in three sets, 7-6, (7-1), 6-3, 7-5, at the Roland Garros stadium in Paris, Sunday, June 11, 2023. Djokovic won his record 23rd Grand Slam singles title, breaking a tie with Rafael Nadal for the most by a man. (AP Photo/Thibault Camus)\\nSerbia\\u2019s Novak Djokovic reacts during his final match of the French Open tennis tournament against Norway\\u2019s Casper Ruud at the Roland Garros stadium in Paris, Sunday, June 11, 2023. (AP Photo/Aurelien Morissard)\\nSerbia\\u2019s Novak Djokovic reacts during his final match of the French Open tennis tournament against Norway\\u2019s Casper Ruud at the Roland Garros stadium in Paris, Sunday, June 11, 2023. (AP Photo/Aurelien Morissard)\\nSerbia\\u2019s Novak Djokovic reacts during his final match of the French Open tennis tournament against Norway\\u2019s Casper Ruud at the Roland Garros stadium in Paris, Sunday, June 11, 2023. (AP Photo/Aurelien Morissard)\\nSerbia\\u2019s Novak Djokovic reacts during his final match of the French Open tennis tournament against Norway\\u2019s Casper Ruud at the Roland Garros stadium in Paris, Sunday, June 11, 2023. (AP Photo/Aurelien Morissard)\\nNorway\\u2019s Casper Ruud plays a shot against Serbia\\u2019s Novak Djokovic during their final match of the French Open tennis tournament at the Roland Garros stadium in Paris, Sunday, June 11, 2023. (AP Photo/Jean-Francois Badias)\\nNorway\\u2019s Casper Ruud plays a shot against Serbia\\u2019s Novak Djokovic during their final match of the French Open tennis tournament at the Roland Garros stadium in Paris, Sunday, June 11, 2023. (AP Photo/Jean-Francois Badias)\\nSerbia\\u2019s Novak Djokovic celebrates winning the men\\u2019s singles final match of the French Open tennis tournament against Norway\\u2019s Casper Ruud in three sets, 7-6, (7-1), 6-3, 7-5, at the Roland Garros stadium in Paris, Sunday, June 11, 2023. Djokovic won his record 23rd Grand Slam singles title, breaking a tie with Rafael Nadal for the most by a man. (AP Photo/Christophe Ena)\\nSerbia\\u2019s Novak Djokovic celebrates winning the men\\u2019s singles final match of the French Open tennis tournament against Norway\\u2019s Casper Ruud in three sets, 7-6, (7-1), 6-3, 7-5, at the Roland Garros stadium in Paris, Sunday, June 11, 2023. Djokovic won his record 23rd Grand Slam singles title, breaking a tie with Rafael Nadal for the most by a man. (AP Photo/Christophe Ena)\\nNorway\\u2019s Casper Ruud plays a shot against Serbia\\u2019s Novak Djokovic during their final match of the French Open tennis tournament at the Roland Garros stadium in Paris, Sunday, June 11, 2023. (AP Photo/Jean-Francois Badias)\\nNorway\\u2019s Casper Ruud plays a shot against Serbia\\u2019s Novak Djokovic during their final match of the French Open tennis tournament at the Roland Garros stadium in Paris, Sunday, June 11, 2023. (AP Photo/Jean-Francois Badias)\\nSerbia\\u2019s Novak Djokovic celebrates winning the men\\u2019s singles final match of the French Open tennis tournament against Norway\\u2019s Casper Ruud in three sets, 7-6, (7-1), 6-3, 7-5, at the Roland Garros stadium in Paris, Sunday, June 11, 2023. Djokovic won his record 23rd Grand Slam singles title, breaking a tie with Rafael Nadal for the most by a man. (AP Photo/Christophe Ena)\\nSerbia\\u2019s Novak Djokovic celebrates winning the men\\u2019s singles final match of the French Open tennis tournament against Norway\\u2019s Casper Ruud in three sets, 7-6, (7-1), 6-3, 7-5, at the Roland Garros stadium in Paris, Sunday, June 11, 2023. Djokovic won his record 23rd Grand Slam singles title, breaking a tie with Rafael Nadal for the most by a man. (AP Photo/Christophe Ena)\\nSerbia\\u2019s Novak Djokovic wears the number 23 on his garment for his 23rd Grand Slam Singles title as he kisses the trophy after winning the men\\u2019s singles final match of the French Open tennis tournament against Norway\\u2019s Casper Ruud in three sets, 7-6, (7-1), 6-3, 7-5, at the Roland Garros stadium in Paris, Sunday, June 11, 2023. Djokovic won his record 23rd Grand Slam singles title, breaking a tie with Rafael Nadal for the most by a man. (AP Photo/Christophe Ena)\\nSerbia\\u2019s Novak Djokovic wears the number 23 on his garment for his 23rd Grand Slam Singles title as he kisses the trophy after winning the men\\u2019s singles final match of the French Open tennis tournament against Norway\\u2019s Casper Ruud in three sets, 7-6, (7-1), 6-3, 7-5, at the Roland Garros stadium in Paris, Sunday, June 11, 2023. Djokovic won his record 23rd Grand Slam singles title, breaking a tie with Rafael Nadal for the most by a man. (AP Photo/Christophe Ena)\\nSerbia\\u2019s Novak Djokovic poses with fans as he celebrates winning the men\\u2019s singles final match of the French Open tennis tournament against Norway\\u2019s Casper Ruud in three sets, 7-6, (7-1), 6-3, 7-5, at the Roland Garros stadium in Paris, Sunday, June 11, 2023. Djokovic won his record 23rd Grand Slam singles title, breaking a tie with Rafael Nadal for the most by a man. (AP Photo/Thibault Camus)\\nSerbia\\u2019s Novak Djokovic poses with fans as he celebrates winning the men\\u2019s singles final match of the French Open tennis tournament against Norway\\u2019s Casper Ruud in three sets, 7-6, (7-1), 6-3, 7-5, at the Roland Garros stadium in Paris, Sunday, June 11, 2023. Djokovic won his record 23rd Grand Slam singles title, breaking a tie with Rafael Nadal for the most by a man. (AP Photo/Thibault Camus)\\nSerbia\\u2019s Novak Djokovic kisses the trophy as he celebrates winning the men\\u2019s singles final match of the French Open tennis tournament against Norway\\u2019s Casper Ruud in three sets, 7-6, (7-1), 6-3, 7-5, at the Roland Garros stadium in Paris, Sunday, June 11, 2023. Djokovic won his record 23rd Grand Slam singles title, breaking a tie with Rafael Nadal for the most by a man. (AP Photo/Christophe Ena)\\nSerbia\\u2019s Novak Djokovic kisses the trophy as he celebrates winning the men\\u2019s singles final match of the French Open tennis tournament against Norway\\u2019s Casper Ruud in three sets, 7-6, (7-1), 6-3, 7-5, at the Roland Garros stadium in Paris, Sunday, June 11, 2023. Djokovic won his record 23rd Grand Slam singles title, breaking a tie with Rafael Nadal for the most by a man. (AP Photo/Christophe Ena)\\nSerbia\\u2019s Novak Djokovic takes images with fans as he celebrates winning the men\\u2019s singles final match of the French Open tennis tournament against Norway\\u2019s Casper Ruud in three sets, 7-6, (7-1), 6-3, 7-5, at the Roland Garros stadium in Paris, Sunday, June 11, 2023. Djokovic won his record 23rd Grand Slam singles title, breaking a tie with Rafael Nadal for the most by a man. (AP Photo/Christophe Ena)\\nSerbia\\u2019s Novak Djokovic takes images with fans as he celebrates winning the men\\u2019s singles final match of the French Open tennis tournament against Norway\\u2019s Casper Ruud in three sets, 7-6, (7-1), 6-3, 7-5, at the Roland Garros stadium in Paris, Sunday, June 11, 2023. Djokovic won his record 23rd Grand Slam singles title, breaking a tie with Rafael Nadal for the most by a man. (AP Photo/Christophe Ena)\\nPARIS (AP) \\u2014 Novak Djokovic made clear for years this was his goal. What drove him. What inspired him. The biggest titles from his sport\\u2019s biggest stages were Djokovic\\u2019s main aim and now he finally stands alone \\u2014 ahead of Rafael Nadal, ahead of Roger Federer, ahead of every man who ever has swung a racket.\\nIf Djokovic could wait this long to hold this record, he certainly could wait for the half-hour or so it took to straighten out his strokes in the French Open final. And so, after a bit of a shaky start in thick, humid air and under foreboding clouds Sunday, he imposed himself. The opponent at Court Philippe Chatrier, Casper Ruud, never really stood a serious chance after that.\\nDjokovic earned his men\\u2019s-record 23rd Grand Slam singles championship, breaking a tie with Nadal and moving three in front of the retired Federer, with a 7-6 (1), 6-3, 7-5 victory over Ruud that was not in doubt for most of its 3 hours, 13 minutes.\\nDjokovic puts this one alongside the French Open titles he earned in 2016 and 2021, making him the only man with at least three from each major. He won his very first at the 2008 Australian Open and now possesses a total of 10 trophies from there, seven from Wimbledon and three from the U.S. Open.\\n\\u201cI knew that going into the tournament, going into the match, especially, today, that there is history on the line, but I try to focus my attention and my thoughts into preparing for this match in the best way possible to win, like any other match,\\u201d Djokovic said, wearing a red jacket with \\u201c23\\u201d stitched on the chest. \\u201cOf course I would lie if I say that I didn\\u2019t think about the finish line that is right there and that one more match is needed to win a trophy \\u2014 a historic one.\\u201d\\nAlso worth noting: He again is halfway to a calendar-year Grand Slam \\u2014 winning all four majors in one season \\u2014 something no man has achieved since Rod Laver in 1969. Djokovic came close in 2021, when he won the Australian Open, French Open and Wimbledon and made it all the way to the title match at the U.S. Open before losing to Daniil Medvedev.\\nDjokovic will resume that pursuit at Wimbledon, which begins on the grass of the All England Club on July 3.\\n\\u201cHe has this software in his head that he can switch (on) when a Grand Slam comes,\\u201d said his coach, Goran Ivanisevic. \\u201cThe day we arrived here, he was better, he was more motivated, he was more hungry. Every day, he played better and better.\\u201d\\nEntering the 2011 season, this is how the Slam count looked: 16 for Federer, nine for Nadal, one for Djokovic.\\n\\u201cPretty decent 12 years, I must say, for me,\\u201d Djokovic said with a smile.\\nThe climb began with a trio that year and accelerated lately: He has clutched the trophy at 11 of the last 20 Slams, a remarkable run made even more so when considering that he did not participate in two majors during that span because he did not get vaccinated against COVID-19. Djokovic was deported in January 2021 before the Australian Open, and he was not allowed to fly to the United States ahead of last year\\u2019s U.S. Open under a rule that since has been lifted.\\nGetting to 23 not only sets the mark for men, but it also lets Djokovic equal Serena Williams, who wrapped up her career last year, for the most by anyone in the Open era, which began in 1968. Margaret Court won some of her all-time record of 24 Slam trophies in the amateur era.\\nAt 20 days past his 36th birthday, the Serb is the oldest singles champion at Roland Garros, considered the most grueling of the majors because of the lengthy, grinding points required by the red clay, which is slower than the grass or hard courts underfoot elsewhere.\\nNadal\\u2019s 22nd major arrived in Paris a year ago, two days after he turned 36. He has been sidelined since January by a hip injury and had arthroscopic surgery on June 2.\\n\\u201cMany congrats on this amazing achievement,\\u201d Nadal tweeted shortly after the final concluded. \\u201c23 is a number that just a few years back was (impossible) to think about, and you made it!\\u201d\\nDjokovic\\u2019s triumph on Sunday means he will return to No. 1 in the ATP rankings on Monday, replacing Carlos Alcaraz. Djokovic already has spent more weeks at the top spot than any player \\u2014 man or woman \\u2014 since the inception of computerized tennis rankings a half-century ago.\\nIt was Djokovic who eliminated Alcaraz in the semifinals on Thursday, wearing him down over two thrilling sets until the 20-year-old Spaniard\\u2019s body cramped up badly. Alcaraz continued to play, but the scores of the last two sets of the four-set match told the story: 6-1, 6-1.\\nThis was the third Slam final in the past five events for Ruud, a 24-year-old from Norway, but he is now 0-3. He lost to Nadal at the French Open a year ago and to Alcaraz at the U.S. Open last September.\\nPerhaps due to an awareness of all that was at stake, Djokovic, in his 34th major final, was the one who got off to a shaky start.\\n\\u201cMaybe feeling a bit nervous, little stressed,\\u201d Ruud said about his opponent.\\nBut by the close of the first set, Djokovic was downright Djokovic-esque, as he was while taking 12 of the last 13 points of the match, most accompanied by spectators\\u2019 thunderous chants of his two-syllable nickname, \\u201cNo-le! No-le! No-le!\\u201d\\nWhen one last miscue from Ruud landed out, Djokovic dropped onto his back with limbs spread wide.\\n\\u201cHe kind of pressures you, in a way, to go for more risks, and that\\u2019s tough,\\u201d Ruud said. \\u201cHe just stepped up, like he knows how to do.\\u201d\\nAt first, though, Djokovic kept missing forehands \\u2014 into the net, wide, long \\u2014 then made a different sort of mistake, shanking an overhead from near the net way beyond the opposite baseline to get broken and trail 2-0.\\nFor whatever reason, that shot always has been Djokovic\\u2019s \\u201cb\\u00eate noire,\\u201d and he missed another overhead later in the set.\\nSoon, Ruud led 4-1, thanks in part to Djokovic\\u2019s troubles. By then, Djokovic accumulated 13 unforced errors, while Ruud made just four.\\nAnd then everything changed.\\nAfter finishing the first set with 18 unforced errors, Djokovic recalibrated himself, with merely 14 over the last two sets combined.\\nThen it was Ruud\\u2019s turn to flub an overhead, rocking back and depositing his into the net to end a 29-stroke point. Djokovic\\u2019s first service break made it 4-3, and he shook his right fist.\\n\\u201cA bit devastating,\\u201d Ruud called it.\\nThey went to a tiebreaker, truly Djokovic\\u2019s dominion. When the import rises, along with the tension, he simply excels.\\n\\u201cHe sort of just goes into this mode,\\u201d Ruud said, \\u201cwhere he just becomes like a wall.\\u201d\\nDuring the first-to-7 segment, Djokovic contributed four winners and zero unforced errors.\\nThat made his career mark in tiebreakers 308-162, a winning percentage of .655. In 2023, he is 15-4, including 6-0 in Paris \\u2014 there were 55 points played across that half-dozen, and Djokovic\\u2019s sum total of unforced errors was zero.\\n\\u201cHe just steps up,\\u201d Ruud said. \\u201cEither he plays ridiculous defense or he plays beautiful winners. Just doesn\\u2019t do any mistakes.\\u201d\\nThat set alone lasted 1 hour, 21 minutes, chock full of extended exchanges, the sort of points about which entire stories could be written. There were those that lasted 20, 25, 29 strokes. One was won by Ruud with the help of a back-to-the-net, between-the-legs shot. On another, Djokovic tumbled behind the baseline, smudging his red shirt, blue shorts and skin with the rust-colored clay.\\nDjokovic\\u2019s scrambling and stretching and bending and twisting on defense shows up on the scoreboard, for sure. But all of the long points also sap an opponent\\u2019s energy and will.\\n\\u201cIt\\u2019s just annoying for me,\\u201d Ruud said, \\u201cbut it\\u2019s very, very impressive.\\u201d\\nWhen Djokovic broke to lead 3-0 in the second set, his powers now on full display, he jabbed his right index finger against his temple over and over and over. He wheeled to face his nearby box in the stands, where the group included Ivanisevic, Djokovic\\u2019s wife and two children, his parents, his agent and even seven-time Super Bowl champion Tom Brady.\\nThe retired Brady is widely viewed as the NFL\\u2019s \\u201cGreatest Of All Time\\u201d \\u2014 or \\u201cGOAT,\\u201d for short \\u2014 and there has been a debate in the tennis world for quite some time over which among Djokovic, Nadal or Federer deserves that sobriquet.\\nIf the barometer is Grand Slam championships, no one can argue against Djokovic\\u2019s status at the moment.\\n\\u201cI leave those kind of discussions of \\u2018who is the greatest?\\u2019 to someone else. I have, of course, huge faith and confidence and belief (in) myself and for everything that I am and who I am and what I am capable of doing,\\u201d Djokovic said at his news conference, the Coupes des Mousquetaires at arm\\u2019s length. \\u201cSo this trophy obviously is another confirmation of the quality of tennis that I\\u2019m still able to produce, I feel.\\u201d\\n___\\nAP tennis: https://apnews.com/hub/tennis and https://twitter.com/AP_Sports\\nCopyright 2023 The Associated Press. All Rights Reserved.\"}, {\"title\": \"Carlos Alcaraz wins the French Open, earning a third Grand Slam title - NPR\", \"url\": \"https://www.npr.org/2024/06/09/nx-s1-4997726/carlos-alcaraz-wins-french-open-third-grand-slam-title\", \"content\": \"PARIS \\u2014 As Carlos Alcaraz began constructing his comeback in Sunday's French Open final, a 6-3, 2-6, 5-7, 6-1, 6-2 victory over Alexander Zverev for a first championship at Roland Garros and ...\", \"score\": 0.9738444, \"raw_content\": \"Sports\\nCarlos Alcaraz wins the French Open, earning a third Grand Slam title\\nBy\\nThe Associated Press\\nWinner Spain's Carlos Alcaraz celebrates with the trophy as he won the men's final match of the French Open tennis tournament against Germany's Alexander Zverev at the Roland Garros stadium in Paris on Sunday.\\nThibault Camus/AP\\nhide caption\\nPARIS \\u2014 As Carlos Alcaraz began constructing his comeback in Sunday\\u2019s French Open final, a 6-3, 2-6, 5-7, 6-1, 6-2 victory over Alexander Zverev for a first championship at Roland Garros and third Grand Slam title in all, there arrived the sort of magical shot the kid is making a regular part of his varied repertoire.\\nIt was a running, then sliding, down-the-line, untouchable forehand passing winner that Alcaraz celebrated by thrusting his right index finger overhead in a \\u201cNo. 1\\u201d sign, then throwing an uppercut while screaming, \\u201cVamos!\\u201d\\nNo, he is not ranked No. 1 at the moment \\u2014 the man he beat in the semifinals, Jannik Sinner, makes his debut at the top spot on Monday \\u2014 but Alcaraz has been there before and, although a \\u201c2\\u201d will be beside his name next week, there is little doubt that he is as good as it gets in men\\u2019s tennis right now. And more accomplished than any man ever was at his age.\\nMain Character of the Day\\nCarlos Alcaraz' Wimbledon win and a new era of tennis\\nAlcaraz is a 21-year-old from Spain who grew up running home from school to watch on TV as countryman Rafael Nadal was accumulating title after title at Roland Garros \\u2014 a record 14 \\u2014 and he eclipsed Nadal as the youngest man to collect major championships on three surfaces. Nadal was about 1\\u00bd years older when he did it.\\n\\u201cDifferent tournaments, different aura,\\u201d Alcaraz said when asked to distinguish among his trio of trophies, \\u201cbut I\\u2019m going to say: same feeling. I mean, winning a Grand Slam is always special.\\u201d\\nThis one from the clay-court major joins hardware from triumphs on hard courts at the U.S. Open in 2022 and on grass at Wimbledon in 2023. He is 3-0 in Slam finals.\\n\\u201cIt\\u2019s an amazing career already. You\\u2019re already a Hall of Famer. You already achieved so much \\u2014 and you\\u2019re only 21 years old,\\u201d said Zverev, who also lost the 2020 U.S. Open final, that one after being two points from winning. \\u201cIncredible player. Not the last time you\\u2019re going to win this.\\u201d\\nZverev, a 27-year-old from Germany, exited the French Open in the semifinals each of the past three years, including after tearing ankle ligaments during the second set against Nadal in that round in 2022. Hours before Zverev\\u2019s semifinal victory over Casper Ruud began on Friday, a Berlin district court announced that he reached an out-of-court settlement that ended a trial stemming from an ex-girlfriend\\u2019s accusation of assault during a 2020 argument.\\nSports\\nThe Spanish tennis pipeline that's produced Carlos Alcaraz and Rafael Nadal\\nOn Sunday against Alcaraz, Zverev faltered after surging in front by reeling off the last five games of the third set. Alcaraz\\u2019s level dipped during that stretch and he seemed distracted by a complaint over the condition of the clay, telling chair umpire Renaud Lichtenstein it was \\u201cunbelievable.\\u201d\\nBut Alcaraz reset and ran away with it, taking 12 of the last 15 games while being treated by a trainer at changeovers for some pain and cramping in his left leg.\\n\\u201cI know that when I\\u2019m playing a fifth set, you have to give everything and you have to give your heart,\\u201d Alcaraz said. \\u201cI mean, in those moments, it\\u2019s where the top players give their best tennis.\\u201d\\nNo. 3 seed Alcaraz and No. 4 Zverev were making their first appearance in a French Open final. Indeed, this was the first men\\u2019s title match at Roland Garros since 2004 without at least one of Nadal, Novak Djokovic or Roger Federer.\\nNadal, who is 38 and was limited by injuries over the last two seasons, lost to Zverev in the first round two weeks ago; Djokovic, 37, a three-time champion, withdrew before the quarterfinals with a knee injury that required surgery; Federer, 42, is retired.\\nThere were some jitters at the outset. Zverev started with two double-faults \\u2014 changing rackets after the second, as though the equipment were the culprit \\u2014 and got broken. Alcaraz lost serve immediately, too.\\nLet\\u2019s just say they won\\u2019t be putting those initial 10 minutes in the Louvre. Actually, lot of the 4-hour, 19-minute match was patchy, littered with unforced errors.\\nAlcaraz was at his best when it mattered the most \\u2014 the last two sets.\\n\\u201cI lost focus, and on my serve, I didn\\u2019t get the power from my legs anymore, which is weird. Because normally I do not get tired. I don\\u2019t cramp,\\u201d Zverev said. \\u201cAgainst Carlos, it\\u2019s a different intensity.\\u201d\\nJust like he did against Zverev, Alcaraz overturned a deficit of two sets to one against Sinner, making him the first man to capture the French Open by doing that in each of the last two matches since Manolo Santana \\u2014 also from Spain \\u2014 in 1961.\\nAlcaraz showed off all of his skills: the drop shots, the artful half-volleys, the intimidating forehands delivered aggressively and accompanied by a loud grunt. His 27 forehand winners were 20 more than Zverev\\u2019s total.\\nNot bad for a guy who arrived in Paris saying he was afraid to hit his forehand at full force because of a forearm injury that sidelined him for nearly all of May. He said Sunday that there were \\u201ca lot of doubts\\u201d entering the French Open and he was forced to limit his practice time \\u2014 which is why he considers this victory the proudest moment of his still-nascent career.\\nIn the fifth set, under constant pressure from Alcaraz, Zverev got broken to fall behind 2-1. The next game showed the grit and gumption that already are hallmarks of Alcaraz\\u2019s style.\\nZverev \\u2014 who argued about one line call on a second serve by Alcaraz that the German said afterward was out according to an unofficial video review \\u2014 would hold four break points. He failed to convert any. Alcaraz didn\\u2019t let him, and wrapped up the game with a drop shot.\\nThe crowd roared. Alcaraz held his left index finger to his ear while waving his racket. He broke again for 5-2, then served it out and dropped onto his back, caking his shirt with clay \\u2014 just as Nadal often did after championship point.\\nAlcaraz first learned to play tennis on the rust-colored surface, although he says he prefers hard courts. Alcaraz says he dreamed long ago of adding his own name to the list of Spanish men to win the event, including his coach, 2003 champion Juan Carlos Ferrero.\\nAnd those red-and-yellow Spanish flags that became such an annual fixture at Court Philippe Chatrier in the era of Nadal were there again Sunday, this time for Alcaraz. The difference? The cries of \\u201cRa-fa! Ra-fa!\\u201d were now \\u201cCar-los! Car-los!\\u201d\\nSponsor Message\\nBecome an NPR sponsor\"}], \"response_time\": 4.07}, \"status\": \"success\"}\n",
            "Tavily tool is working correctly!\n"
          ]
        }
      ],
      "source": [
        "from langchain_community.tools.tavily_search import TavilySearchResults\n",
        "import requests\n",
        "from langchain_core.messages import ToolMessage\n",
        "import json\n",
        "\n",
        "def test_tavily_tool() -> bool:\n",
        "    tool = TavilySearchResults(\n",
        "        max_results=3,\n",
        "        include_answer=True,\n",
        "        include_raw_content=True,\n",
        "    )\n",
        "    \n",
        "    try:\n",
        "        result: ToolMessage = tool.invoke({\"args\": {'query': 'who won the last french open'}, \"type\": \"tool_call\", \"id\": \"foo\", \"name\": \"tavily\"})\n",
        "        \n",
        "        # Parse the JSON content of the ToolMessage\n",
        "        result_dict = json.loads(result.json())\n",
        "        \n",
        "        # Check if the content field contains an error message\n",
        "        if 'HTTPError' in result_dict['content']:\n",
        "            print(f\"Error detected in content: {result_dict['content']}\")\n",
        "            return False\n",
        "        \n",
        "        print(\"Tavily search successful:\")\n",
        "        print(result.json())\n",
        "        return True\n",
        "    \n",
        "    except requests.exceptions.RequestException as e:\n",
        "        print(f\"Request exception occurred: {e}\")\n",
        "        return False\n",
        "    except json.JSONDecodeError as e:\n",
        "        print(f\"JSON decode error: {e}\")\n",
        "        return False\n",
        "    except Exception as e:\n",
        "        print(f\"An unexpected error occurred: {e}\")\n",
        "        return False\n",
        "\n",
        "# Run the test\n",
        "if test_tavily_tool():\n",
        "    print(\"Tavily tool is working correctly!\")\n",
        "else:\n",
        "    print(\"There was an issue with the Tavily tool. Please check your API key and internet connection.\")"
      ]
    },
    {
      "cell_type": "markdown",
      "metadata": {
        "id": "NIR7cbTL9agM"
      },
      "source": [
        "Creating a custom tool, however, is very straightforward.\n",
        "\n",
        "> NOTE: You *must* include a docstring, as that is what the LLM will consider when deciding when to use this tool."
      ]
    },
    {
      "cell_type": "code",
      "execution_count": 23,
      "metadata": {
        "id": "sSwO2L_UqFhm"
      },
      "outputs": [],
      "source": [
        "# from typing import Annotated, List, Tuple, Union\n",
        "# from langchain_core.tools import tool\n",
        "\n",
        "# @tool\n",
        "# def retrieve_information(\n",
        "#     query: Annotated[str, \"query to ask the retrieve information tool\"]\n",
        "#     ) -> str:\n",
        "#   \"\"\"Use Retrieval Augmented Generation to retrieve information about the 'Extending Llama-3’s Context Ten-Fold Overnight' paper.\"\"\"\n",
        "#   return rag_chain.invoke(input={\"question\" : query})"
      ]
    },
    {
      "cell_type": "code",
      "execution_count": 24,
      "metadata": {},
      "outputs": [],
      "source": [
        "from langchain.tools import BaseTool\n",
        "from langchain.pydantic_v1 import BaseModel, Field\n",
        "from typing import Optional, Type\n",
        "\n",
        "class RetrieveInformationInput(BaseModel):\n",
        "    query: str = Field(..., description=\"Query to ask the retrieve information tool\")\n",
        "\n",
        "class RetrieveInformationTool(BaseTool):\n",
        "    name: str = \"retrieve_information\"\n",
        "    description: str = \"Use Retrieval Augmented Generation to retrieve information about the 'Extending Llama-3's Context Ten-Fold Overnight' paper.\"\n",
        "    args_schema: Optional[Type[BaseModel]] = RetrieveInformationInput\n",
        "\n",
        "    def _run(self, query: str) -> str:\n",
        "        return rag_chain.invoke(input={\"question\": query})\n",
        "\n",
        "    def _arun(self, query: str) -> str:\n",
        "        # If you need async support, implement this method\n",
        "        # For now, we'll just call the sync version\n",
        "        return self._run(query)\n",
        "\n",
        "retrieve_information = RetrieveInformationTool()"
      ]
    },
    {
      "cell_type": "markdown",
      "metadata": {
        "id": "nxsMnqjpBTCj"
      },
      "source": [
        "> NOTE: We could just as easily use the LCEL chain directly, since nodes can be LCEL objects - but creating a tool helps explain the tool creation process at the same time."
      ]
    },
    {
      "cell_type": "markdown",
      "metadata": {
        "id": "oDHCajO4_gB2"
      },
      "source": [
        "### Research Team State\n",
        "\n",
        "Since we're using LangGraph - we're going to need state!\n",
        "\n",
        "Let's look at how we've created our state below."
      ]
    },
    {
      "cell_type": "code",
      "execution_count": 25,
      "metadata": {
        "id": "mXminK9d_1fa"
      },
      "outputs": [],
      "source": [
        "import functools\n",
        "import operator\n",
        "from langgraph.graph import StateGraph\n",
        "\n",
        "from langchain_core.messages import BaseMessage, HumanMessage\n",
        "from typing import Annotated, List,TypedDict\n",
        "\n",
        "class ResearchTeamState(TypedDict):\n",
        "    messages: Annotated[List[BaseMessage], operator.add]\n",
        "    team_members: List[str]\n",
        "    next: str"
      ]
    },
    {
      "cell_type": "markdown",
      "metadata": {
        "id": "fvPM5msq_18C"
      },
      "source": [
        "Notice how we've used `messages`, `team_members`, and `next`.\n",
        "\n",
        "These states will help us understand:\n",
        "\n",
        "1. What we've done so far (`messages`)\n",
        "2. Which team members we have access to (`team_members`)\n",
        "3. Which team member is up next! (`next`)"
      ]
    },
    {
      "cell_type": "markdown",
      "metadata": {
        "id": "Mu7B_6qHAFjK"
      },
      "source": [
        "### Research Team LLM\n",
        "\n",
        "We'll be using `gpt-4-turbo` today. This LLM is going to be doing a lot of reasoning - and so using a \"powerful\" LLM is very important here!"
      ]
    },
    {
      "cell_type": "code",
      "execution_count": 26,
      "metadata": {
        "id": "dTNqrip8AcKR"
      },
      "outputs": [],
      "source": [
        "from langchain_openai.chat_models import ChatOpenAI\n",
        "from langchain_core.language_models.chat_models import BaseChatModel\n",
        "llm : ChatOpenAI = ChatOpenAI(model=\"gpt-4-turbo\")"
      ]
    },
    {
      "cell_type": "markdown",
      "metadata": {
        "id": "pfb_VCNKIy9w"
      },
      "source": [
        "##### ❓ Question #1:\n",
        "\n",
        "Why is a \"powerful\" LLM important for this use-case?\n",
        "\n",
        "What tasks must our Agent perform that make it such that the LLM's reasoning capability is a potential limiter?"
      ]
    },
    {
      "cell_type": "markdown",
      "metadata": {},
      "source": [
        "#### 🔍Answer #1:\n",
        "\n",
        "the following are tasks that require significant reasoning capability:\n",
        "\n",
        "1. Complex Task Coordination:\n",
        "The LLM needs to coordinate between multiple agents (Search, PaperInformationRetriever, and Supervisor) and understand their roles and capabilities. This requires a high level of reasoning to decide which agent should act next based on the current state and goal.\n",
        "\n",
        "2. Information Synthesis:\n",
        "The LLM must synthesize information from multiple sources (search results and paper-specific information) to form coherent and relevant responses. This involves understanding context, relevance, and how different pieces of information relate to each other.\n",
        "\n",
        "3. Task Decomposition:\n",
        "Breaking down complex research queries into subtasks that can be handled by different agents requires sophisticated reasoning. The LLM needs to understand the overall goal and how to efficiently divide the work.\n",
        "\n",
        "4. Natural Language Understanding:\n",
        "The LLM must interpret user queries, which can be complex and nuanced, especially when dealing with technical topics like AI research papers.\n",
        "\n",
        "5. Contextual Decision Making:\n",
        "Deciding when to switch between agents or when to conclude the research process (FINISH) requires understanding the current state of knowledge and the quality of information gathered so far.\n",
        "\n",
        "6. Handling Ambiguity:\n",
        "Research questions often involve ambiguity. A powerful LLM is needed to navigate unclear aspects of queries and decide how to proceed when information is incomplete or contradictory.\n",
        "\n",
        "7. Specialized Knowledge Application:\n",
        "Understanding and working with technical AI concepts mentioned in the paper requires a model with broad and deep knowledge in the field.\n",
        "\n",
        "8. Output Quality and Coherence:\n",
        "Generating high-quality, coherent responses that accurately reflect the research findings and meet the user's needs requires advanced language generation capabilities.\n",
        "\n",
        "9. Error Handling and Recovery:\n",
        "The ability to recognize when an approach isn't working and to adjust the strategy accordingly requires sophisticated reasoning.\n",
        "\n",
        "10. Instruction Following with Flexibility:\n",
        "The LLM needs to follow the given instructions (like using specific tools) while also being flexible enough to handle unexpected scenarios or information.\n",
        "\n",
        "These tasks require a high degree of reasoning, context understanding, and knowledge application, which are characteristics of more powerful LLMs. A less capable model might struggle with these complex cognitive tasks, potentially leading to less accurate research outcomes, poor task allocation, or inability to effectively synthesize information from multiple sources."
      ]
    },
    {
      "cell_type": "markdown",
      "metadata": {
        "id": "ZR_1LuMKAekf"
      },
      "source": [
        "### Research Team Agents & Nodes\n",
        "\n",
        "Now we can use our helper functions to create our agent nodes, with their related tools.\n",
        "\n",
        "Let's start with our search agent node."
      ]
    },
    {
      "cell_type": "markdown",
      "metadata": {
        "id": "uzx6wuPoAlPq"
      },
      "source": [
        "#### Research Team: Search Agent\n",
        "\n",
        "We're going to give our agent access to the Tavily tool, power it with our GPT-4 Turbo model, and then create its node - and name it `Search`."
      ]
    },
    {
      "cell_type": "code",
      "execution_count": 27,
      "metadata": {
        "id": "FIlLPxj7Atpj"
      },
      "outputs": [],
      "source": [
        "import functools;\n",
        "from langchain.agents.agent import AgentExecutor\n",
        "from typing import Callable, List, Dict, Any\n",
        "from langchain_core.messages import  HumanMessage\n",
        "\n",
        "search_agent: AgentExecutor = create_agent(\n",
        "    llm,\n",
        "    [tavily_tool],\n",
        "    \"You are a research assistant who can search for up-to-date info using the tavily search engine.\",\n",
        ")\n",
        "# search_node  = functools.partial(agent_node, agent=search_agent, name=\"Search\")\n",
        "search_node: Callable[[Dict[str, Any]], Dict[str, List[HumanMessage]]] = functools.partial(agent_node, agent=search_agent, name=\"Search\")"
      ]
    },
    {
      "cell_type": "markdown",
      "metadata": {
        "id": "emLtesudA9Dd"
      },
      "source": [
        "#### Research Team: RAG Agent Node\n",
        "\n",
        "Now we can wrap our LCEL RAG pipeline in an agent node as well, using the LCEL RAG pipeline as the tool, as created above."
      ]
    },
    {
      "cell_type": "code",
      "execution_count": 28,
      "metadata": {
        "id": "z-nnAG9XA_p7"
      },
      "outputs": [],
      "source": [
        "from langchain.agents.agent import AgentExecutor\n",
        "\n",
        "import functools;\n",
        "\n",
        "research_agent: AgentExecutor = create_agent(\n",
        "    llm,\n",
        "    [retrieve_information],\n",
        "    \"You are a research assistant who can provide specific information on the provided paper: 'Extending Llama-3’s Context Ten-Fold Overnight'. You must only respond with information about the paper related to the request.\",\n",
        ")\n",
        "research_node: Callable[[Dict[str, Any]], Dict[str, List[HumanMessage]]] = functools.partial(agent_node, agent=research_agent, name=\"PaperInformationRetriever\")"
      ]
    },
    {
      "cell_type": "markdown",
      "metadata": {
        "id": "dA5z6T1CBeSc"
      },
      "source": [
        "### Research Team Supervisor Agent\n",
        "\n",
        "Notice that we're not yet creating our supervisor *node*, simply the agent here.\n",
        "\n",
        "Also notice how we need to provide a few extra pieces of information - including which tools we're using.\n",
        "\n",
        "> NOTE: It's important to use the *exact* tool name, as that is how the LLM will reference the tool. Also, it's important that your tool name is all a single alphanumeric string!\n",
        "\n"
      ]
    },
    {
      "cell_type": "code",
      "execution_count": 29,
      "metadata": {
        "id": "J0g8CQMBrtFs"
      },
      "outputs": [],
      "source": [
        "from typing import Any, Dict\n",
        "\n",
        "\n",
        "from langchain_core.runnables.base import RunnableSerializable\n",
        "\n",
        "\n",
        "supervisor_agent: RunnableSerializable[Dict[str, Any], Dict[str, str]] = create_team_supervisor(\n",
        "    llm,\n",
        "    (\"You are a supervisor tasked with managing a conversation between the\"\n",
        "    \" following workers:  Search, PaperInformationRetriever. Given the following user request,\"\n",
        "    \" determine the subject to be researched and respond with the worker to act next. Each worker will perform a\"\n",
        "    \" task and respond with their results and status. \"\n",
        "    \" You should never ask your team to do anything beyond research. They are not required to write content or posts.\"\n",
        "    \" You should only pass tasks to workers that are specifically research focused.\"\n",
        "    \" When finished, respond with FINISH.\"),\n",
        "    [\"Search\", \"PaperInformationRetriever\"],\n",
        ")"
      ]
    },
    {
      "cell_type": "markdown",
      "metadata": {
        "id": "qohn0DcgB_U1"
      },
      "source": [
        "### Research Team Graph Creation\n",
        "\n",
        "Now that we have our research team agent nodes created, and our supervisor agent - let's finally construct our graph!\n",
        "\n",
        "We'll start by creating our base graph from our state, and then adding the nodes/agent we've created as nodes on our LangGraph."
      ]
    },
    {
      "cell_type": "code",
      "execution_count": 30,
      "metadata": {
        "id": "p0s2GAgJCN8G"
      },
      "outputs": [],
      "source": [
        "from langgraph.graph import StateGraph\n",
        "research_graph:StateGraph = StateGraph(ResearchTeamState)\n",
        "\n",
        "research_graph.add_node(\"Search\", search_node)\n",
        "research_graph.add_node(\"PaperInformationRetriever\", research_node)\n",
        "research_graph.add_node(\"supervisor\", supervisor_agent)"
      ]
    },
    {
      "cell_type": "markdown",
      "metadata": {
        "id": "33qixRGNCaAX"
      },
      "source": [
        "Now we can define our edges - include our conditional edge from our supervisor to our agent nodes.\n",
        "\n",
        "Notice how we're always routing our agent nodes back to our supervisor!"
      ]
    },
    {
      "cell_type": "code",
      "execution_count": 31,
      "metadata": {
        "id": "yYSJIhijsGyg"
      },
      "outputs": [],
      "source": [
        "from langgraph.graph import END\n",
        "\n",
        "research_graph.add_edge(\"Search\", \"supervisor\")\n",
        "research_graph.add_edge(\"PaperInformationRetriever\", \"supervisor\")\n",
        "research_graph.add_conditional_edges(\n",
        "    \"supervisor\",\n",
        "    lambda x: x[\"next\"],\n",
        "    {\"Search\": \"Search\", \"PaperInformationRetriever\": \"PaperInformationRetriever\", \"FINISH\": END},\n",
        ")"
      ]
    },
    {
      "cell_type": "markdown",
      "metadata": {
        "id": "hgGcuZzkCj1-"
      },
      "source": [
        "Now we can set our supervisor node as the entry point, and compile our graph!"
      ]
    },
    {
      "cell_type": "code",
      "execution_count": 32,
      "metadata": {
        "id": "1l-1I2Z3CnPX"
      },
      "outputs": [],
      "source": [
        "research_graph.set_entry_point(\"supervisor\")\n",
        "from langgraph.graph.graph import CompiledGraph\n",
        "chain:CompiledGraph = research_graph.compile()"
      ]
    },
    {
      "cell_type": "markdown",
      "metadata": {
        "id": "GDwQpYTSEY13"
      },
      "source": [
        "#### Display Graph"
      ]
    },
    {
      "cell_type": "code",
      "execution_count": 33,
      "metadata": {
        "colab": {
          "base_uri": "https://localhost:8080/",
          "height": 423
        },
        "id": "l8n6SXhpEa2b",
        "outputId": "7bdb0c10-9bfe-4b5b-a812-0b01ba66dda9"
      },
      "outputs": [
        {
          "data": {
            "image/jpeg": "[encoded data removed]",
            "text/plain": [
              "<IPython.core.display.Image object>"
            ]
          },
          "metadata": {},
          "output_type": "display_data"
        }
      ],
      "source": [
        "from IPython.display import Image, display\n",
        "\n",
        "try:\n",
        "    display(Image(chain.get_graph(xray=True).draw_mermaid_png()))\n",
        "except:\n",
        "    pass\n",
        "\n"
      ]
    },
    {
      "cell_type": "markdown",
      "metadata": {
        "id": "bfRvA2QfCqFL"
      },
      "source": [
        "The next part is key - since we need to \"wrap\" our LangGraph in order for it to be compatible in the following steps - let's create an LCEL chain out of it!\n",
        "\n",
        "This allows us to \"broadcast\" messages down to our Research Team LangGraph!"
      ]
    },
    {
      "cell_type": "code",
      "execution_count": 34,
      "metadata": {
        "id": "1G7hmEINCx3i"
      },
      "outputs": [],
      "source": [
        "from typing import Dict, List, Any\n",
        "from langchain_core.messages import HumanMessage\n",
        "from langchain_core.runnables import RunnableSerializable\n",
        "\n",
        "def enter_chain(input_dict: Dict[str, str], team_members: List[str]) -> Dict[str, Any]:\n",
        "    results: Dict[str, Any] = {\n",
        "        \"messages\": [HumanMessage(content=input_dict[\"question\"])],\n",
        "        \"team_members\": \", \".join(team_members),\n",
        "    }\n",
        "    return results\n",
        "\n",
        "research_chain: RunnableSerializable[Dict[str, str], Dict[str, List[HumanMessage]]] = (\n",
        "    functools.partial(enter_chain, team_members=[\"Search\", \"PaperInformationRetriever\"])\n",
        "    | chain\n",
        ")\n",
        "\n"
      ]
    },
    {
      "cell_type": "markdown",
      "metadata": {
        "id": "EGdoCdXWC7Pi"
      },
      "source": [
        "Now, finally, we can take it for a spin!"
      ]
    },
    {
      "cell_type": "code",
      "execution_count": 35,
      "metadata": {
        "colab": {
          "base_uri": "https://localhost:8080/"
        },
        "id": "xIDpFIg2sRUl",
        "outputId": "8cf7eb77-d6bb-4646-b45d-35c04cbd3cbe"
      },
      "outputs": [],
      "source": [
        "# for s in research_chain.stream(\n",
        "#     {\"question\": \"What are the main takeaways from the paper `Extending Llama-3's Context Ten-Fold Overnight'? Please use Search and PaperInformationRetriever!\"},\n",
        "#     {\"recursion_limit\": 100}\n",
        "# ):\n",
        "#     if \"__end__\" not in s:\n",
        "#         print(s)\n",
        "#         print(\"---\")"
      ]
    },
    {
      "cell_type": "code",
      "execution_count": 36,
      "metadata": {},
      "outputs": [
        {
          "name": "stdout",
          "output_type": "stream",
          "text": [
            "{\n",
            "    \"supervisor\": {\n",
            "        \"next\": \"Search\"\n",
            "    }\n",
            "}\n",
            "---\n",
            "{\n",
            "    \"Search\": {\n",
            "        \"messages\": [\n",
            "            {\n",
            "                \"content\": \"The main takeaways from the paper \\\"Extending Llama-3's Context Ten-Fold Overnight\\\" are:\\n\\n1. **Extension of Context Length**: The researchers successfully extended the context length of the Llama-3-8B-Instruct model from 8,000 tokens to 80,000 tokens. This was achieved using a method called QLoRA fine-tuning.\\n\\n2. **Efficiency of Training**: The training process was highly efficient, taking only 8 hours on a single machine equipped with 8xA800 (80G) GPUs.\\n\\n3. **Use of Synthetic Training Data**: The dramatic increase in context length was facilitated by the use of 3,500 synthetic training samples, which were generated by a more powerful language model, GPT-4.\\n\\n4. **Improved Model Performance**: The resulting model demonstrated superior performance across a broad range of evaluation tasks, indicating that the extended context length significantly enhanced its capabilities.\\n\\n5. **Potential for Scalability**: The results highlight the potential for large language models to handle longer contexts effectively, provided additional computational resources are available.\\n\\nThis advancement suggests significant implications for the development of language models, especially in terms of processing and understanding larger blocks of text efficiently.\",\n",
            "                \"additional_kwargs\": {},\n",
            "                \"response_metadata\": {},\n",
            "                \"type\": \"human\",\n",
            "                \"name\": \"Search\",\n",
            "                \"id\": null,\n",
            "                \"example\": false\n",
            "            }\n",
            "        ]\n",
            "    }\n",
            "}\n",
            "---\n",
            "{\n",
            "    \"supervisor\": {\n",
            "        \"next\": \"FINISH\"\n",
            "    }\n",
            "}\n",
            "---\n"
          ]
        }
      ],
      "source": [
        "from langchain_core.messages import HumanMessage\n",
        "from langgraph.pregel.io import AddableUpdatesDict\n",
        "import json\n",
        "for s in research_chain.stream(\n",
        "    {\"question\": \"What are the main takeaways from the paper `Extending Llama-3's Context Ten-Fold Overnight'? Please use Search and PaperInformationRetriever!\"},\n",
        "    {\"recursion_limit\": 100}\n",
        "):\n",
        "    if not isinstance(s, AddableUpdatesDict):\n",
        "       print(\"not an AddableUpdatesDict. type: \", type(s).__name__)\n",
        "       continue\n",
        "    # iterate over keys and pretty print the values\n",
        "    print(json.dumps(\n",
        "        s,\n",
        "        indent=4,\n",
        "        default=lambda x: x.__dict__,\n",
        "        ensure_ascii=False\n",
        "    ))\n",
        "    print(\"---\")"
      ]
    },
    {
      "cell_type": "markdown",
      "metadata": {
        "id": "DHAgsbwIIhwj"
      },
      "source": [
        "##### 🏗️ Activity #2:\n",
        "\n",
        "Using whatever drawing application you wish - please label the flow above on a diagram of your graph."
      ]
    },
    {
      "cell_type": "markdown",
      "metadata": {},
      "source": [
        "> TODO"
      ]
    },
    {
      "cell_type": "code",
      "execution_count": 37,
      "metadata": {},
      "outputs": [
        {
          "name": "stdout",
          "output_type": "stream",
          "text": [
            "\n",
            "Rendered Diagram:\n"
          ]
        },
        {
          "data": {
            "image/jpeg": "[encoded data removed]",
            "text/plain": [
              "<IPython.core.display.Image object>"
            ]
          },
          "metadata": {},
          "output_type": "display_data"
        }
      ],
      "source": [
        "from IPython.display import Image, display\n",
        "from langgraph.graph.graph import CompiledGraph\n",
        "\n",
        "def display_mermaid_diagram(chain : CompiledGraph):\n",
        "    try:\n",
        "        # Get the Mermaid diagram text\n",
        "        mermaid_text = chain.get_graph(xray=True).draw_mermaid()\n",
        "        \n",
        "        # Display the Mermaid text\n",
        "        # print(\"Mermaid Diagram Text:\")\n",
        "        # print(\"```mermaid\")\n",
        "        # print(mermaid_text)\n",
        "        # print(\"```\")\n",
        "        #         # Render and display the image\n",
        "        print(\"\\nRendered Diagram:\")\n",
        "        display(Image(chain.get_graph(xray=True).draw_mermaid_png()))\n",
        "    except Exception as e:\n",
        "        print(f\"An error occurred: {e}\")\n",
        "\n",
        "# Usage\n",
        "display_mermaid_diagram(chain)"
      ]
    },
    {
      "cell_type": "markdown",
      "metadata": {
        "id": "eH70eHGlJbq4"
      },
      "source": [
        "##### ❓ Question #2:\n",
        "\n",
        "How could you make sure your Agent uses specific tools that you wish it to use? Are there any ways to concretely set a flow through tools?"
      ]
    },
    {
      "cell_type": "markdown",
      "metadata": {},
      "source": [
        "#### 🔍Answer #2:\n",
        "\n",
        "Given that we're already using a supervisor agent, there are indeed several ways\n",
        "to ensure specific tool usage and set a concrete flow through tools within this\n",
        "framework. Here are some strategies:\n",
        "\n",
        "\n",
        "1. Tool Assignment to Specific Agents:\n",
        "   When creating worker agents, you can explicitly assign specific tools to each agent. For example:\n",
        "\n",
        "   ```python\n",
        "   research_agent = create_agent(llm, [tavily_tool], \"You are a web researcher.\")\n",
        "   code_agent = create_agent(llm, [python_repl_tool], \"You are a coder.\")\n",
        "   ```\n",
        "\n",
        "   This ensures that each agent only has access to the tools you want it to use.\n",
        "\n",
        "2. Supervisor Logic:\n",
        "   You can modify the supervisor's decision-making logic to route tasks to specific agents based on the required tools. For example:\n",
        "\n",
        "   ```python\n",
        "   def supervisor_logic(state):\n",
        "       if \"search\" in state[\"input\"].lower():\n",
        "           return \"Researcher\"\n",
        "       elif \"code\" in state[\"input\"].lower():\n",
        "           return \"Coder\"\n",
        "       else:\n",
        "           return \"FINISH\"\n",
        "   ```\n",
        "\n",
        "3. Conditional Edges:\n",
        "   In the graph construction, you can use conditional edges to enforce a specific flow:\n",
        "\n",
        "   ```python\n",
        "   workflow.add_conditional_edges(\n",
        "       \"supervisor\",\n",
        "       supervisor_logic,\n",
        "       {\n",
        "           \"Researcher\": \"Researcher\",\n",
        "           \"Coder\": \"Coder\",\n",
        "           \"FINISH\": END\n",
        "       }\n",
        "   )\n",
        "   ```\n",
        "\n",
        "4. Explicit Instructions in Prompts:\n",
        "   Include specific instructions about tool usage in the system prompts for each agent:\n",
        "\n",
        "   ```python\n",
        "   research_agent = create_agent(\n",
        "       llm, \n",
        "       [tavily_tool], \n",
        "       \"You are a web researcher. Always use the Tavily search tool for research tasks.\"\n",
        "   )\n",
        "   ```\n",
        "\n",
        "5. Forced Tool Usage:\n",
        "   Implement a wrapper around your agents that forces them to use a specific tool before moving to the next step:\n",
        "\n",
        "   ```python\n",
        "   def force_tool_usage(agent, tool, input_data):\n",
        "       tool_result = tool.run(input_data)\n",
        "       return agent.run(tool_result)\n",
        "   ```\n",
        "\n",
        "6. State-based Routing:\n",
        "   Maintain a state that tracks which tools have been used and use this to determine the next step:\n",
        "\n",
        "   ```python\n",
        "   class AgentState(TypedDict):\n",
        "       messages: Annotated[Sequence[BaseMessage], operator.add]\n",
        "       next: str\n",
        "       tools_used: List[str]\n",
        "   ```\n",
        "\n",
        "   Then update the supervisor logic to check and update the `tools_used` list.\n",
        "\n",
        "7. Tool-specific Nodes:\n",
        "   Instead of giving agents multiple tools, create separate nodes for each tool and connect them in a specific order in your graph.\n",
        "\n",
        "By combining these strategies, you can create a more deterministic flow through your tools while still maintaining the flexibility of the supervisor-agent structure.\n",
        "\n",
        "[Source: LangChain documentation on Supervision](https://langchain-ai.github.io/langgraph/tutorials/multi_agent/agent_supervisor/)"
      ]
    },
    {
      "cell_type": "markdown",
      "metadata": {
        "id": "ejsHCZZ2EmwM"
      },
      "source": [
        "## Document Writing Team - A LangGraph for Writing, Editing, and Planning a LinkedIn post.\n",
        "\n",
        "Let's run it all back, this time specifically creating tools, agent nodes, and a graph for planning, writing, and editing a LinkedIn post!"
      ]
    },
    {
      "cell_type": "markdown",
      "metadata": {
        "id": "4awQtZ-oFUN-"
      },
      "source": [
        "### Tool Creation\n",
        "\n",
        "Let's create some tools that will help us understand, open, work with, and edit documents to our liking!"
      ]
    },
    {
      "cell_type": "code",
      "execution_count": 47,
      "metadata": {},
      "outputs": [
        {
          "name": "stdout",
          "output_type": "stream",
          "text": [
            "Working directory: /tmp/tmp0sg0dyu0\n"
          ]
        }
      ],
      "source": [
        "from tempfile import TemporaryDirectory\n",
        "tmpdir =TemporaryDirectory()\n",
        "from pathlib import Path\n",
        "\n",
        "WORKING_DIRECTORY=Path(tmpdir.name)\n",
        "print(f\"Working directory: {WORKING_DIRECTORY}\")\n"
      ]
    },
    {
      "cell_type": "code",
      "execution_count": 118,
      "metadata": {
        "id": "ptXilgparOkq"
      },
      "outputs": [],
      "source": [
        "import os\n",
        "import uuid\n",
        "from pathlib import Path\n",
        "from tempfile import TemporaryDirectory\n",
        "from typing import Dict, List, Optional, Annotated\n",
        "from langchain.agents.agent import AgentExecutor\n",
        "from typing_extensions import TypedDict\n",
        "from langchain.tools import tool\n",
        "from langchain.tools import Tool\n",
        "\n",
        "@tool\n",
        "def create_outline(\n",
        "    points: Annotated[List[str], \"List of main points or sections.\"],\n",
        "    file_name: Annotated[str, \"File path to save the outline.\"],\n",
        ") -> Annotated[str, \"Path of the saved outline file.\"]:\n",
        "    \"\"\"Create and save an outline.\"\"\"\n",
        "    with (WORKING_DIRECTORY / file_name).open(\"w\") as file:\n",
        "        for i, point in enumerate(points):\n",
        "            file.write(f\"{i + 1}. {point}\\n\")\n",
        "    return f\"Outline saved to {file_name}\"\n",
        "\n",
        "\n",
        "@tool\n",
        "def read_document(\n",
        "    file_name: Annotated[str, \"File path to save the document.\"],\n",
        "    start: Annotated[Optional[int], \"The start line. Default is 0\"] = None,\n",
        "    end: Annotated[Optional[int], \"The end line. Default is None\"] = None,\n",
        ") -> str:\n",
        "    \"\"\"Read the specified document.\"\"\"\n",
        "    with (WORKING_DIRECTORY / file_name).open(\"r\") as file:\n",
        "        lines = file.readlines()\n",
        "    if start is not None:\n",
        "        start = 0\n",
        "    return \"\\n\".join(lines[start:end])\n",
        "\n",
        "\n",
        "@tool\n",
        "def write_document(\n",
        "    content: Annotated[str, \"Text content to be written into the document.\"],\n",
        "    file_name: Annotated[str, \"File path to save the document.\"],\n",
        ") -> Annotated[str, \"Path of the saved document file.\"]:\n",
        "    \"\"\"Create and save a text document.\"\"\"\n",
        "    with (WORKING_DIRECTORY / file_name).open(\"w\") as file:\n",
        "        file.write(content)\n",
        "    return f\"Document saved to {file_name}\"\n",
        "\n",
        "\n",
        "@tool\n",
        "def edit_document(\n",
        "    file_name: Annotated[str, \"Path of the document to be edited.\"],\n",
        "    inserts: Annotated[\n",
        "        Dict[int, str],\n",
        "        \"Dictionary where key is the line number (1-indexed) and value is the text to be inserted at that line.\",\n",
        "    ] = {},\n",
        ") -> Annotated[str, \"Path of the edited document file.\"]:\n",
        "    \"\"\"Edit a document by inserting text at specific line numbers.\"\"\"\n",
        "\n",
        "    with (WORKING_DIRECTORY / file_name).open(\"r\") as file:\n",
        "        lines: list[str] = file.readlines()\n",
        "\n",
        "    sorted_inserts = sorted(inserts.items())\n",
        "\n",
        "    for line_number, text in sorted_inserts:\n",
        "        if 1 <= line_number <= len(lines) + 1:\n",
        "            lines.insert(line_number - 1, text + \"\\n\")\n",
        "        else:\n",
        "            return f\"Error: Line number {line_number} is out of range.\"\n",
        "\n",
        "    with (WORKING_DIRECTORY / file_name).open(\"w\") as file:\n",
        "        file.writelines(lines)\n",
        "\n",
        "    return f\"Document edited and saved to {file_name}\"\n"
      ]
    },
    {
      "cell_type": "markdown",
      "metadata": {
        "id": "n8yH1IAYK7nL"
      },
      "source": [
        "##### 🏗️ Activity #3:\n",
        "\n",
        "Describe, briefly, what each of these tools is doing in your own words."
      ]
    },
    {
      "cell_type": "markdown",
      "metadata": {},
      "source": [
        "- `create_outline`\n",
        "  - This function generates a structured outline document from a list of main points, saving it to a specified file within the working directory.\n",
        "\n",
        "- `read_document`\n",
        "  - This function reads a document from the working directory and returns its content. It can optionally return a specific range of lines from the document.\n",
        "\n",
        "- `write_document`\n",
        "  - This function writes the provided content to a file in the working directory. If the file already exists, it will be overwritten.\n",
        "\n",
        "- `edit_document`\n",
        "  - This function modifies a document in the working directory by inserting new lines at the specified line numbers. Existing content is shifted down to accommodate the new insertions."
      ]
    },
    {
      "cell_type": "markdown",
      "metadata": {
        "id": "__Jw_XBIFwwa"
      },
      "source": [
        "### Document Writing State\n",
        "\n",
        "Just like with our Research Team state - we want to keep track of a few things, however this time - we also want to keep track of which files we've created - so let's add that here!"
      ]
    },
    {
      "cell_type": "code",
      "execution_count": 105,
      "metadata": {
        "id": "DoU2YwJRu7wD"
      },
      "outputs": [],
      "source": [
        "import operator\n",
        "from typing_extensions import TypedDict\n",
        "from langchain_core.messages import BaseMessage\n",
        "\n",
        "class DocWritingState(TypedDict):\n",
        "    messages: Annotated[List[BaseMessage], operator.add]\n",
        "    team_members: str\n",
        "    next: str\n",
        "    current_files: str"
      ]
    },
    {
      "cell_type": "markdown",
      "metadata": {
        "id": "4p1kQShmGHCh"
      },
      "source": [
        "### Document Writing Prelude Function\n",
        "\n",
        "Since we have a working directory - we want to be clear about what our current working directory looks like - this helper function will allow us to do that cleanly!"
      ]
    },
    {
      "cell_type": "code",
      "execution_count": 119,
      "metadata": {
        "id": "G79mUggQGLVq"
      },
      "outputs": [],
      "source": [
        "def prelude(state):\n",
        "    written_files = []\n",
        "    if not WORKING_DIRECTORY.exists():\n",
        "        WORKING_DIRECTORY.mkdir()\n",
        "    try:\n",
        "        written_files = [\n",
        "            f.relative_to(WORKING_DIRECTORY) for f in WORKING_DIRECTORY.rglob(\"*\")\n",
        "        ]\n",
        "    except:\n",
        "        pass\n",
        "    if not written_files:\n",
        "        return {**state, \"current_files\": \"No files written.\"}\n",
        "    return {\n",
        "        **state,\n",
        "        \"current_files\": \"\\nBelow are files your team has written to the directory:\\n\"\n",
        "        + \"\\n\".join([f\" - {f}\" for f in written_files]),\n",
        "    }"
      ]
    },
    {
      "cell_type": "markdown",
      "metadata": {
        "id": "wbSre9agT9Gb"
      },
      "source": [
        "### Document Writing Node Creation\n",
        "\n"
      ]
    },
    {
      "cell_type": "code",
      "execution_count": 133,
      "metadata": {},
      "outputs": [],
      "source": [
        "from pathlib import Path\n",
        "from tempfile import TemporaryDirectory\n",
        "from typing import Dict, Optional\n",
        "from langchain.agents.agent import AgentExecutor\n",
        "from typing_extensions import TypedDict\n",
        "import uuid\n",
        "import os\n",
        "def create_team_supervisor(llm: ChatOpenAI, system_prompt, members) -> str:\n",
        "    \"\"\"An LLM-based router.\"\"\"\n",
        "    options = [\"FINISH\"] + members\n",
        "    function_def = {\n",
        "        \"name\": \"route\",\n",
        "        \"description\": \"Select the next role.\",\n",
        "        \"parameters\": {\n",
        "            \"title\": \"routeSchema\",\n",
        "            \"type\": \"object\",\n",
        "            \"properties\": {\n",
        "                \"next\": {\n",
        "                    \"title\": \"Next\",\n",
        "                    \"anyOf\": [\n",
        "                        {\"enum\": options},\n",
        "                    ],\n",
        "                },\n",
        "            },\n",
        "            \"required\": [\"next\"],\n",
        "        },\n",
        "    }\n",
        "    prompt = ChatPromptTemplate.from_messages(\n",
        "        [\n",
        "            (\"system\", system_prompt),\n",
        "            MessagesPlaceholder(variable_name=\"messages\"),\n",
        "            (\n",
        "                \"system\",\n",
        "                \"Given the conversation above, who should act next?\"\n",
        "                \" Or should we FINISH? Select one of: {options}\",\n",
        "            ),\n",
        "        ]\n",
        "    ).partial(options=str(options), team_members=\", \".join(members))\n",
        "    return (\n",
        "        prompt\n",
        "        | llm.bind_functions(functions=[function_def], function_call=\"route\")\n",
        "        | JsonOutputFunctionsParser()\n",
        "    )\n",
        "\n",
        "\n",
        "doc_writer_agent = create_agent(\n",
        "    llm,\n",
        "    [write_document, edit_document, read_document],\n",
        "    (\"You are an expert writing technical LinkedIn posts.\\n\"\n",
        "    \"Below are files currently in your directory:\\n{current_files}\"),\n",
        ")\n",
        "context_aware_doc_writer_agent = prelude | doc_writer_agent\n",
        "doc_writing_node = functools.partial(\n",
        "    agent_node, agent=context_aware_doc_writer_agent, name=\"DocWriter\"\n",
        ")\n",
        "\n",
        "note_taking_agent = create_agent(\n",
        "    llm,\n",
        "    [create_outline, read_document],\n",
        "    (\"You are an expert senior researcher tasked with writing a LinkedIn post outline and\"\n",
        "    \" taking notes to craft a LinkedIn post.\\n{current_files}\"),\n",
        ")\n",
        "context_aware_note_taking_agent = prelude | note_taking_agent\n",
        "note_taking_node = functools.partial(\n",
        "    agent_node, agent=context_aware_note_taking_agent, name=\"NoteTaker\"\n",
        ")\n",
        "\n",
        "copy_editor_agent = create_agent(\n",
        "    llm,\n",
        "    [write_document, edit_document, read_document],\n",
        "    (\"You are an expert copy editor who focuses on fixing grammar, spelling, and tone issues\\n\"\n",
        "    \"Below are files currently in your directory:\\n{current_files}\"),\n",
        ")\n",
        "context_aware_copy_editor_agent = prelude | copy_editor_agent\n",
        "copy_editing_node = functools.partial(\n",
        "    agent_node, agent=context_aware_copy_editor_agent, name=\"CopyEditor\"\n",
        ")\n",
        "\n",
        "dopeness_editor_agent = create_agent(\n",
        "    llm,\n",
        "    [write_document, edit_document, read_document],\n",
        "    (\"You are an expert in dopeness, litness, coolness, etc - you edit the document to make sure it's dope.\"\n",
        "    \"Below are files currently in your directory:\\n{current_files}\"),\n",
        ")\n",
        "context_aware_dopeness_editor_agent = prelude | dopeness_editor_agent\n",
        "dopeness_node = functools.partial(\n",
        "    agent_node, agent=context_aware_dopeness_editor_agent, name=\"DopenessEditor\"\n",
        ")\n",
        "\n",
        "doc_writing_supervisor = create_team_supervisor(\n",
        "    llm,\n",
        "    (\"You are a supervisor tasked with managing a conversation between the\"\n",
        "    \" following workers: {team_members}. You should always verify the technical\"\n",
        "    \" contents after any edits are made. \"\n",
        "    \"Given the following user request,\"\n",
        "    \" respond with the worker to act next. Each worker will perform a\"\n",
        "    \" task and respond with their results and status. When each team is finished,\"\n",
        "    \" you must respond with FINISH.\"),\n",
        "    [\"DocWriter\", \"NoteTaker\", \"DopenessEditor\", \"CopyEditor\"],\n",
        ")\n"
      ]
    },
    {
      "cell_type": "markdown",
      "metadata": {
        "id": "AUiNMpJBGXN0"
      },
      "source": [
        "### Document Writing Team LangGraph Construction\n",
        "\n",
        "This part is almost exactly the same (with a few extra nodes) as our Research Team LangGraph construction - so we'll leave it as one block!"
      ]
    },
    {
      "cell_type": "code",
      "execution_count": 134,
      "metadata": {},
      "outputs": [],
      "source": [
        "authoring_graph = StateGraph(DocWritingState)\n",
        "authoring_graph.add_node(\"DocWriter\", doc_writing_node)\n",
        "authoring_graph.add_node(\"NoteTaker\", note_taking_node)\n",
        "authoring_graph.add_node(\"CopyEditor\", copy_editing_node)\n",
        "authoring_graph.add_node(\"DopenessEditor\", dopeness_node)\n",
        "authoring_graph.add_node(\"supervisor\", doc_writing_supervisor)\n",
        "\n",
        "authoring_graph.add_edge(\"DocWriter\", \"supervisor\")\n",
        "authoring_graph.add_edge(\"NoteTaker\", \"supervisor\")\n",
        "authoring_graph.add_edge(\"CopyEditor\", \"supervisor\")\n",
        "authoring_graph.add_edge(\"DopenessEditor\", \"supervisor\")\n",
        "\n",
        "authoring_graph.add_conditional_edges(\n",
        "    \"supervisor\",\n",
        "    lambda x: x[\"next\"],\n",
        "    {\n",
        "        \"DocWriter\": \"DocWriter\",\n",
        "        \"NoteTaker\": \"NoteTaker\",\n",
        "        \"CopyEditor\" : \"CopyEditor\",\n",
        "        \"DopenessEditor\" : \"DopenessEditor\",\n",
        "        \"FINISH\": END,\n",
        "    },\n",
        ")\n",
        "\n",
        "authoring_graph.set_entry_point(\"supervisor\")\n",
        "chain = authoring_graph.compile()\n"
      ]
    },
    {
      "cell_type": "markdown",
      "metadata": {
        "id": "Zx-EKGkHKUBO"
      },
      "source": [
        "#### Display Graph"
      ]
    },
    {
      "cell_type": "code",
      "execution_count": 135,
      "metadata": {
        "colab": {
          "base_uri": "https://localhost:8080/",
          "height": 423
        },
        "id": "AZdOb3GZKSM7",
        "outputId": "74490792-5ba5-43fd-e28d-28c4740c52a8"
      },
      "outputs": [
        {
          "data": {
            "image/jpeg": "[encoded data removed]",
            "text/plain": [
              "<IPython.core.display.Image object>"
            ]
          },
          "metadata": {},
          "output_type": "display_data"
        }
      ],
      "source": [
        "from IPython.display import Image, display\n",
        "\n",
        "try:\n",
        "    display(Image(chain.get_graph(xray=True).draw_mermaid_png()))\n",
        "except:\n",
        "    pass"
      ]
    },
    {
      "cell_type": "markdown",
      "metadata": {
        "id": "yB_rOw1hGpwd"
      },
      "source": [
        "Just as before - we'll need to create an \"interface\" between the level above, and our graph."
      ]
    },
    {
      "cell_type": "code",
      "execution_count": 136,
      "metadata": {
        "id": "G-RbbCKoG_nt"
      },
      "outputs": [],
      "source": [
        "def enter_chain(message: str, members: List[str]):\n",
        "    results = {\n",
        "        \"messages\": [HumanMessage(content=message)],\n",
        "        \"team_members\": \", \".join(members),\n",
        "    }\n",
        "    return results\n",
        "\n",
        "authoring_chain = (\n",
        "    functools.partial(enter_chain, members=authoring_graph.nodes)\n",
        "    | authoring_graph.compile()\n",
        ")"
      ]
    },
    {
      "cell_type": "markdown",
      "metadata": {
        "id": "GgyhpTrRNgQd"
      },
      "source": [
        "Now we can test this out!\n",
        "\n",
        "> NOTE: It is possible you may see an error here - rerun the cell to clear."
      ]
    },
    {
      "cell_type": "code",
      "execution_count": 137,
      "metadata": {
        "colab": {
          "base_uri": "https://localhost:8080/"
        },
        "id": "IWUxv4XDx3kg",
        "outputId": "1d626a44-3ad2-44dc-fe12-7850777d062f"
      },
      "outputs": [],
      "source": [
        "# for s in authoring_chain.stream(\n",
        "#     \"Write an outline for for a short LinkedIn post on Linear Regression and write it to disk.\",\n",
        "#     {\"recursion_limit\": 100},\n",
        "# ):\n",
        "#     if \"__end__\" not in s:\n",
        "#         print(s)\n",
        "#         print(\"---\")"
      ]
    },
    {
      "cell_type": "code",
      "execution_count": 138,
      "metadata": {},
      "outputs": [
        {
          "name": "stdout",
          "output_type": "stream",
          "text": [
            "{\n",
            "    \"supervisor\": {\n",
            "        \"next\": \"DocWriter\"\n",
            "    }\n",
            "}\n",
            "---\n",
            "{\n",
            "    \"DocWriter\": {\n",
            "        \"messages\": [\n",
            "            {\n",
            "                \"content\": \"The outline for a short LinkedIn post on Linear Regression has been successfully written and saved to the file \\\"LinkedIn_Post_Outline_Linear_Regression.txt\\\".\",\n",
            "                \"additional_kwargs\": {},\n",
            "                \"response_metadata\": {},\n",
            "                \"type\": \"human\",\n",
            "                \"name\": \"DocWriter\",\n",
            "                \"id\": null,\n",
            "                \"example\": false\n",
            "            }\n",
            "        ]\n",
            "    }\n",
            "}\n",
            "---\n",
            "{\n",
            "    \"supervisor\": {\n",
            "        \"next\": \"NoteTaker\"\n",
            "    }\n",
            "}\n",
            "---\n",
            "{\n",
            "    \"NoteTaker\": {\n",
            "        \"messages\": [\n",
            "            {\n",
            "                \"content\": \"The outline for the LinkedIn post on Linear Regression has been successfully created and saved to the file \\\"LinkedIn_Post_Outline_Linear_Regression.txt\\\". The main points of the post will be:\\n\\n1. Introduction to Linear Regression\\n2. Why Linear Regression is important\\n3. How Linear Regression works\\n4. Practical applications of Linear Regression\\n5. Conclusion and final thoughts\\n\\nThis structure will ensure the post is comprehensive and informative, covering all the necessary aspects of Linear Regression.\",\n",
            "                \"additional_kwargs\": {},\n",
            "                \"response_metadata\": {},\n",
            "                \"type\": \"human\",\n",
            "                \"name\": \"NoteTaker\",\n",
            "                \"id\": null,\n",
            "                \"example\": false\n",
            "            }\n",
            "        ]\n",
            "    }\n",
            "}\n",
            "---\n",
            "{\n",
            "    \"supervisor\": {\n",
            "        \"next\": \"CopyEditor\"\n",
            "    }\n",
            "}\n",
            "---\n",
            "{\n",
            "    \"CopyEditor\": {\n",
            "        \"messages\": [\n",
            "            {\n",
            "                \"content\": \"The document \\\"LinkedIn_Post_Outline_Linear_Regression.txt\\\" has been successfully edited and saved. The final version reads:\\n\\n1. An Overview of Linear Regression\\n2. The Significance of Linear Regression\\n3. Understanding the Mechanism of Linear Regression\\n4. Exploring the Practical Applications of Linear Regression\\n5. Wrapping Up: Final Thoughts on Linear Regression\\n\\nThis edited version presents a more engaging and professional tone, suitable for a LinkedIn post.\",\n",
            "                \"additional_kwargs\": {},\n",
            "                \"response_metadata\": {},\n",
            "                \"type\": \"human\",\n",
            "                \"name\": \"CopyEditor\",\n",
            "                \"id\": null,\n",
            "                \"example\": false\n",
            "            }\n",
            "        ]\n",
            "    }\n",
            "}\n",
            "---\n",
            "{\n",
            "    \"supervisor\": {\n",
            "        \"next\": \"DopenessEditor\"\n",
            "    }\n",
            "}\n",
            "---\n",
            "{\n",
            "    \"DopenessEditor\": {\n",
            "        \"messages\": [\n",
            "            {\n",
            "                \"content\": \"The document \\\"LinkedIn_Post_Outline_Linear_Regression.txt\\\" has been successfully written and saved. The content of the document is:\\n\\n1. An Overview of Linear Regression\\n2. The Significance of Linear Regression\\n3. Understanding the Mechanism of Linear Regression\\n4. Exploring the Practical Applications of Linear Regression\\n5. Wrapping Up: Final Thoughts on Linear Regression\",\n",
            "                \"additional_kwargs\": {},\n",
            "                \"response_metadata\": {},\n",
            "                \"type\": \"human\",\n",
            "                \"name\": \"DopenessEditor\",\n",
            "                \"id\": null,\n",
            "                \"example\": false\n",
            "            }\n",
            "        ]\n",
            "    }\n",
            "}\n",
            "---\n",
            "{\n",
            "    \"supervisor\": {\n",
            "        \"next\": \"FINISH\"\n",
            "    }\n",
            "}\n",
            "---\n"
          ]
        }
      ],
      "source": [
        "from langchain_core.messages import HumanMessage\n",
        "from langgraph.pregel.io import AddableUpdatesDict\n",
        "import json\n",
        "for s in authoring_chain.stream(\n",
        "    \"Write an outline for for a short LinkedIn post on Linear Regression and write it to disk.\",\n",
        "    {\"recursion_limit\": 100},\n",
        "):\n",
        "    # print(type(s).__name__)\n",
        "    # if not isinstance(s, AddableUpdatesDict):\n",
        "    #    print(\"not an AddableUpdatesDict. type: \", type(s).__name__)\n",
        "    #    continue\n",
        "    # # iterate over keys and pretty print the values\n",
        "    print(json.dumps(\n",
        "        s,\n",
        "        indent=4,\n",
        "        default=lambda x: x.__dict__,\n",
        "        ensure_ascii=False\n",
        "    ))\n",
        "    print(\"---\")"
      ]
    },
    {
      "cell_type": "markdown",
      "metadata": {
        "id": "zpW2R9SUHGUq"
      },
      "source": [
        "## Meta-Supervisor\n",
        "\n",
        "Finally, now that we have our two LangGraph agents (some of which are already multi-agent), we can build a supervisor that sits above all of them!\n",
        "\n",
        "The final process, surprisingly, is quite straight forward!\n",
        "\n",
        "Let's jump in!\n",
        "\n",
        "First off - we'll need to create our supervisor agent node."
      ]
    },
    {
      "cell_type": "code",
      "execution_count": 139,
      "metadata": {
        "id": "wkpxeUf9ygKp"
      },
      "outputs": [],
      "source": [
        "from langchain_core.messages import AIMessage, BaseMessage, HumanMessage\n",
        "from langchain_openai.chat_models import ChatOpenAI\n",
        "\n",
        "\n",
        "llm = ChatOpenAI(model=\"gpt-4\")\n",
        "\n",
        "supervisor_node = create_team_supervisor(\n",
        "    llm,\n",
        "    \"You are a supervisor tasked with managing a conversation between the\"\n",
        "    \" following teams: {team_members}. Given the following user request,\"\n",
        "    \" respond with the worker to act next. Each worker will perform a\"\n",
        "    \" task and respond with their results and status. When all workers are finished,\"\n",
        "    \" you must respond with FINISH.\",\n",
        "    [\"Research team\", \"LinkedIn team\"],\n",
        ")"
      ]
    },
    {
      "cell_type": "markdown",
      "metadata": {
        "id": "hUvOh_xWIKig"
      },
      "source": [
        "We'll also create our new state - as well as some methods to help us navigate the new state and the subgraphs.\n",
        "\n",
        "> NOTE: We only pass the most recent message from the parent graph to the subgraph, and we only extract the most recent message from the subgraph to include in the state of the parent graph."
      ]
    },
    {
      "cell_type": "code",
      "execution_count": 140,
      "metadata": {
        "id": "O7HJ8MF0yh_i"
      },
      "outputs": [],
      "source": [
        "class State(TypedDict):\n",
        "    messages: Annotated[List[BaseMessage], operator.add]\n",
        "    next: str\n",
        "\n",
        "def get_last_message(state: State) -> str:\n",
        "    return state[\"messages\"][-1].content\n",
        "\n",
        "def join_graph(response: dict):\n",
        "    return {\"messages\": [response[\"messages\"][-1]]}"
      ]
    },
    {
      "cell_type": "markdown",
      "metadata": {
        "id": "B5RHao1sIanG"
      },
      "source": [
        "Next, we'll create our base graph.\n",
        "\n",
        "Notice how each node we're adding is *AN ENTIRE LANGGRAPH AGENT* (wrapped into an LCEL chain with our helper functions above)."
      ]
    },
    {
      "cell_type": "code",
      "execution_count": 141,
      "metadata": {
        "id": "PfCWABCMIaFy"
      },
      "outputs": [],
      "source": [
        "super_graph = StateGraph(State)\n",
        "\n",
        "super_graph.add_node(\"Research team\", get_last_message | research_chain | join_graph)\n",
        "super_graph.add_node(\n",
        "    \"LinkedIn team\", get_last_message | authoring_chain | join_graph\n",
        ")\n",
        "super_graph.add_node(\"supervisor\", supervisor_node)"
      ]
    },
    {
      "cell_type": "markdown",
      "metadata": {
        "id": "dpwpUXMtI62E"
      },
      "source": [
        "Next, we'll create our edges!\n",
        "\n",
        "This process is completely idenctical to what we've seen before - just addressing the LangGraph subgraph nodes instead of individual nodes."
      ]
    },
    {
      "cell_type": "code",
      "execution_count": 142,
      "metadata": {
        "id": "tLtjRuUYI-fx"
      },
      "outputs": [],
      "source": [
        "super_graph.add_edge(\"Research team\", \"supervisor\")\n",
        "super_graph.add_edge(\"LinkedIn team\", \"supervisor\")\n",
        "super_graph.add_conditional_edges(\n",
        "    \"supervisor\",\n",
        "    lambda x: x[\"next\"],\n",
        "    {\n",
        "        \"LinkedIn team\": \"LinkedIn team\",\n",
        "        \"Research team\": \"Research team\",\n",
        "        \"FINISH\": END,\n",
        "    },\n",
        ")\n",
        "super_graph.set_entry_point(\"supervisor\")\n",
        "super_graph = super_graph.compile()"
      ]
    },
    {
      "cell_type": "markdown",
      "metadata": {
        "id": "K1KMfFqgJKw8"
      },
      "source": [
        "That's it!\n",
        "\n",
        "Now we can finally use our full agent!"
      ]
    },
    {
      "cell_type": "code",
      "execution_count": 143,
      "metadata": {
        "colab": {
          "base_uri": "https://localhost:8080/"
        },
        "id": "3M6wUDR-yk8s",
        "outputId": "c21fbc33-1031-400b-aaa2-ec799a23a682"
      },
      "outputs": [
        {
          "name": "stdout",
          "output_type": "stream",
          "text": [
            "{'supervisor': {'next': 'Research team'}}\n",
            "---\n"
          ]
        },
        {
          "ename": "TypeError",
          "evalue": "string indices must be integers, not 'str'",
          "output_type": "error",
          "traceback": [
            "\u001b[0;31m---------------------------------------------------------------------------\u001b[0m",
            "\u001b[0;31mTypeError\u001b[0m                                 Traceback (most recent call last)",
            "Cell \u001b[0;32mIn[143], line 1\u001b[0m\n\u001b[0;32m----> 1\u001b[0m \u001b[38;5;28;43;01mfor\u001b[39;49;00m\u001b[43m \u001b[49m\u001b[43ms\u001b[49m\u001b[43m \u001b[49m\u001b[38;5;129;43;01min\u001b[39;49;00m\u001b[43m \u001b[49m\u001b[43msuper_graph\u001b[49m\u001b[38;5;241;43m.\u001b[39;49m\u001b[43mstream\u001b[49m\u001b[43m(\u001b[49m\n\u001b[1;32m      2\u001b[0m \u001b[43m    \u001b[49m\u001b[43m{\u001b[49m\n\u001b[1;32m      3\u001b[0m \u001b[43m        \u001b[49m\u001b[38;5;124;43m\"\u001b[39;49m\u001b[38;5;124;43mmessages\u001b[39;49m\u001b[38;5;124;43m\"\u001b[39;49m\u001b[43m:\u001b[49m\u001b[43m \u001b[49m\u001b[43m[\u001b[49m\n\u001b[1;32m      4\u001b[0m \u001b[43m            \u001b[49m\u001b[43mHumanMessage\u001b[49m\u001b[43m(\u001b[49m\n\u001b[1;32m      5\u001b[0m \u001b[43m                \u001b[49m\u001b[43mcontent\u001b[49m\u001b[38;5;241;43m=\u001b[39;49m\u001b[38;5;124;43m\"\u001b[39;49m\u001b[38;5;124;43mWrite a LinkedIn post on the paper \u001b[39;49m\u001b[38;5;124;43m'\u001b[39;49m\u001b[38;5;124;43mExtending Llama-3’s Context Ten-Fold Overnight\u001b[39;49m\u001b[38;5;124;43m'\u001b[39;49m\u001b[38;5;124;43m. First consult the research team. Then make sure you consult the LinkedIn team, and check for copy editing and dopeness, and write the file to disk.\u001b[39;49m\u001b[38;5;124;43m\"\u001b[39;49m\n\u001b[1;32m      6\u001b[0m \u001b[43m            \u001b[49m\u001b[43m)\u001b[49m\n\u001b[1;32m      7\u001b[0m \u001b[43m        \u001b[49m\u001b[43m]\u001b[49m\u001b[43m,\u001b[49m\n\u001b[1;32m      8\u001b[0m \u001b[43m    \u001b[49m\u001b[43m}\u001b[49m\u001b[43m,\u001b[49m\n\u001b[1;32m      9\u001b[0m \u001b[43m    \u001b[49m\u001b[43m{\u001b[49m\u001b[38;5;124;43m\"\u001b[39;49m\u001b[38;5;124;43mrecursion_limit\u001b[39;49m\u001b[38;5;124;43m\"\u001b[39;49m\u001b[43m:\u001b[49m\u001b[43m \u001b[49m\u001b[38;5;241;43m30\u001b[39;49m\u001b[43m}\u001b[49m\u001b[43m,\u001b[49m\n\u001b[1;32m     10\u001b[0m \u001b[43m)\u001b[49m\u001b[43m:\u001b[49m\n\u001b[1;32m     11\u001b[0m \u001b[43m    \u001b[49m\u001b[38;5;28;43;01mif\u001b[39;49;00m\u001b[43m \u001b[49m\u001b[38;5;124;43m\"\u001b[39;49m\u001b[38;5;124;43m__end__\u001b[39;49m\u001b[38;5;124;43m\"\u001b[39;49m\u001b[43m \u001b[49m\u001b[38;5;129;43;01mnot\u001b[39;49;00m\u001b[43m \u001b[49m\u001b[38;5;129;43;01min\u001b[39;49;00m\u001b[43m \u001b[49m\u001b[43ms\u001b[49m\u001b[43m:\u001b[49m\n\u001b[1;32m     12\u001b[0m \u001b[43m        \u001b[49m\u001b[38;5;28;43mprint\u001b[39;49m\u001b[43m(\u001b[49m\u001b[43ms\u001b[49m\u001b[43m)\u001b[49m\n",
            "File \u001b[0;32m~/sync/github/llm-playground/.venv/lib/python3.12/site-packages/langgraph/pregel/__init__.py:1303\u001b[0m, in \u001b[0;36mPregel.stream\u001b[0;34m(self, input, config, stream_mode, output_keys, interrupt_before, interrupt_after, debug, subgraphs)\u001b[0m\n\u001b[1;32m   1300\u001b[0m         \u001b[38;5;28;01mbreak\u001b[39;00m\n\u001b[1;32m   1302\u001b[0m \u001b[38;5;66;03m# panic on failure or timeout\u001b[39;00m\n\u001b[0;32m-> 1303\u001b[0m \u001b[43m_panic_or_proceed\u001b[49m\u001b[43m(\u001b[49m\u001b[43mall_futures\u001b[49m\u001b[43m,\u001b[49m\u001b[43m \u001b[49m\u001b[43mloop\u001b[49m\u001b[38;5;241;43m.\u001b[39;49m\u001b[43mstep\u001b[49m\u001b[43m)\u001b[49m\n\u001b[1;32m   1304\u001b[0m \u001b[38;5;66;03m# don't keep futures around in memory longer than needed\u001b[39;00m\n\u001b[1;32m   1305\u001b[0m \u001b[38;5;28;01mdel\u001b[39;00m done, inflight, futures\n",
            "File \u001b[0;32m~/sync/github/llm-playground/.venv/lib/python3.12/site-packages/langgraph/pregel/__init__.py:1733\u001b[0m, in \u001b[0;36m_panic_or_proceed\u001b[0;34m(futs, step, timeout_exc_cls)\u001b[0m\n\u001b[1;32m   1731\u001b[0m             inflight\u001b[38;5;241m.\u001b[39mpop()\u001b[38;5;241m.\u001b[39mcancel()\n\u001b[1;32m   1732\u001b[0m         \u001b[38;5;66;03m# raise the exception\u001b[39;00m\n\u001b[0;32m-> 1733\u001b[0m         \u001b[38;5;28;01mraise\u001b[39;00m exc\n\u001b[1;32m   1735\u001b[0m \u001b[38;5;28;01mif\u001b[39;00m inflight:\n\u001b[1;32m   1736\u001b[0m     \u001b[38;5;66;03m# if we got here means we timed out\u001b[39;00m\n\u001b[1;32m   1737\u001b[0m     \u001b[38;5;28;01mwhile\u001b[39;00m inflight:\n\u001b[1;32m   1738\u001b[0m         \u001b[38;5;66;03m# cancel all pending tasks\u001b[39;00m\n",
            "File \u001b[0;32m~/sync/github/llm-playground/.venv/lib/python3.12/site-packages/langgraph/pregel/executor.py:59\u001b[0m, in \u001b[0;36mBackgroundExecutor.done\u001b[0;34m(self, task)\u001b[0m\n\u001b[1;32m     57\u001b[0m \u001b[38;5;28;01mdef\u001b[39;00m \u001b[38;5;21mdone\u001b[39m(\u001b[38;5;28mself\u001b[39m, task: concurrent\u001b[38;5;241m.\u001b[39mfutures\u001b[38;5;241m.\u001b[39mFuture) \u001b[38;5;241m-\u001b[39m\u001b[38;5;241m>\u001b[39m \u001b[38;5;28;01mNone\u001b[39;00m:\n\u001b[1;32m     58\u001b[0m     \u001b[38;5;28;01mtry\u001b[39;00m:\n\u001b[0;32m---> 59\u001b[0m         \u001b[43mtask\u001b[49m\u001b[38;5;241;43m.\u001b[39;49m\u001b[43mresult\u001b[49m\u001b[43m(\u001b[49m\u001b[43m)\u001b[49m\n\u001b[1;32m     60\u001b[0m     \u001b[38;5;28;01mexcept\u001b[39;00m GraphInterrupt:\n\u001b[1;32m     61\u001b[0m         \u001b[38;5;66;03m# This exception is an interruption signal, not an error\u001b[39;00m\n\u001b[1;32m     62\u001b[0m         \u001b[38;5;66;03m# so we don't want to re-raise it on exit\u001b[39;00m\n\u001b[1;32m     63\u001b[0m         \u001b[38;5;28mself\u001b[39m\u001b[38;5;241m.\u001b[39mtasks\u001b[38;5;241m.\u001b[39mpop(task)\n",
            "File \u001b[0;32m/usr/lib/python3.12/concurrent/futures/_base.py:449\u001b[0m, in \u001b[0;36mFuture.result\u001b[0;34m(self, timeout)\u001b[0m\n\u001b[1;32m    447\u001b[0m     \u001b[38;5;28;01mraise\u001b[39;00m CancelledError()\n\u001b[1;32m    448\u001b[0m \u001b[38;5;28;01melif\u001b[39;00m \u001b[38;5;28mself\u001b[39m\u001b[38;5;241m.\u001b[39m_state \u001b[38;5;241m==\u001b[39m FINISHED:\n\u001b[0;32m--> 449\u001b[0m     \u001b[38;5;28;01mreturn\u001b[39;00m \u001b[38;5;28;43mself\u001b[39;49m\u001b[38;5;241;43m.\u001b[39;49m\u001b[43m__get_result\u001b[49m\u001b[43m(\u001b[49m\u001b[43m)\u001b[49m\n\u001b[1;32m    451\u001b[0m \u001b[38;5;28mself\u001b[39m\u001b[38;5;241m.\u001b[39m_condition\u001b[38;5;241m.\u001b[39mwait(timeout)\n\u001b[1;32m    453\u001b[0m \u001b[38;5;28;01mif\u001b[39;00m \u001b[38;5;28mself\u001b[39m\u001b[38;5;241m.\u001b[39m_state \u001b[38;5;129;01min\u001b[39;00m [CANCELLED, CANCELLED_AND_NOTIFIED]:\n",
            "File \u001b[0;32m/usr/lib/python3.12/concurrent/futures/_base.py:401\u001b[0m, in \u001b[0;36mFuture.__get_result\u001b[0;34m(self)\u001b[0m\n\u001b[1;32m    399\u001b[0m \u001b[38;5;28;01mif\u001b[39;00m \u001b[38;5;28mself\u001b[39m\u001b[38;5;241m.\u001b[39m_exception:\n\u001b[1;32m    400\u001b[0m     \u001b[38;5;28;01mtry\u001b[39;00m:\n\u001b[0;32m--> 401\u001b[0m         \u001b[38;5;28;01mraise\u001b[39;00m \u001b[38;5;28mself\u001b[39m\u001b[38;5;241m.\u001b[39m_exception\n\u001b[1;32m    402\u001b[0m     \u001b[38;5;28;01mfinally\u001b[39;00m:\n\u001b[1;32m    403\u001b[0m         \u001b[38;5;66;03m# Break a reference cycle with the exception in self._exception\u001b[39;00m\n\u001b[1;32m    404\u001b[0m         \u001b[38;5;28mself\u001b[39m \u001b[38;5;241m=\u001b[39m \u001b[38;5;28;01mNone\u001b[39;00m\n",
            "File \u001b[0;32m/usr/lib/python3.12/concurrent/futures/thread.py:58\u001b[0m, in \u001b[0;36m_WorkItem.run\u001b[0;34m(self)\u001b[0m\n\u001b[1;32m     55\u001b[0m     \u001b[38;5;28;01mreturn\u001b[39;00m\n\u001b[1;32m     57\u001b[0m \u001b[38;5;28;01mtry\u001b[39;00m:\n\u001b[0;32m---> 58\u001b[0m     result \u001b[38;5;241m=\u001b[39m \u001b[38;5;28;43mself\u001b[39;49m\u001b[38;5;241;43m.\u001b[39;49m\u001b[43mfn\u001b[49m\u001b[43m(\u001b[49m\u001b[38;5;241;43m*\u001b[39;49m\u001b[38;5;28;43mself\u001b[39;49m\u001b[38;5;241;43m.\u001b[39;49m\u001b[43margs\u001b[49m\u001b[43m,\u001b[49m\u001b[43m \u001b[49m\u001b[38;5;241;43m*\u001b[39;49m\u001b[38;5;241;43m*\u001b[39;49m\u001b[38;5;28;43mself\u001b[39;49m\u001b[38;5;241;43m.\u001b[39;49m\u001b[43mkwargs\u001b[49m\u001b[43m)\u001b[49m\n\u001b[1;32m     59\u001b[0m \u001b[38;5;28;01mexcept\u001b[39;00m \u001b[38;5;167;01mBaseException\u001b[39;00m \u001b[38;5;28;01mas\u001b[39;00m exc:\n\u001b[1;32m     60\u001b[0m     \u001b[38;5;28mself\u001b[39m\u001b[38;5;241m.\u001b[39mfuture\u001b[38;5;241m.\u001b[39mset_exception(exc)\n",
            "File \u001b[0;32m~/sync/github/llm-playground/.venv/lib/python3.12/site-packages/langgraph/pregel/retry.py:26\u001b[0m, in \u001b[0;36mrun_with_retry\u001b[0;34m(task, retry_policy)\u001b[0m\n\u001b[1;32m     24\u001b[0m task\u001b[38;5;241m.\u001b[39mwrites\u001b[38;5;241m.\u001b[39mclear()\n\u001b[1;32m     25\u001b[0m \u001b[38;5;66;03m# run the task\u001b[39;00m\n\u001b[0;32m---> 26\u001b[0m \u001b[43mtask\u001b[49m\u001b[38;5;241;43m.\u001b[39;49m\u001b[43mproc\u001b[49m\u001b[38;5;241;43m.\u001b[39;49m\u001b[43minvoke\u001b[49m\u001b[43m(\u001b[49m\u001b[43mtask\u001b[49m\u001b[38;5;241;43m.\u001b[39;49m\u001b[43minput\u001b[49m\u001b[43m,\u001b[49m\u001b[43m \u001b[49m\u001b[43mtask\u001b[49m\u001b[38;5;241;43m.\u001b[39;49m\u001b[43mconfig\u001b[49m\u001b[43m)\u001b[49m\n\u001b[1;32m     27\u001b[0m \u001b[38;5;66;03m# if successful, end\u001b[39;00m\n\u001b[1;32m     28\u001b[0m \u001b[38;5;28;01mbreak\u001b[39;00m\n",
            "File \u001b[0;32m~/sync/github/llm-playground/.venv/lib/python3.12/site-packages/langchain_core/runnables/base.py:2878\u001b[0m, in \u001b[0;36mRunnableSequence.invoke\u001b[0;34m(self, input, config, **kwargs)\u001b[0m\n\u001b[1;32m   2876\u001b[0m             \u001b[38;5;28minput\u001b[39m \u001b[38;5;241m=\u001b[39m context\u001b[38;5;241m.\u001b[39mrun(step\u001b[38;5;241m.\u001b[39minvoke, \u001b[38;5;28minput\u001b[39m, config, \u001b[38;5;241m*\u001b[39m\u001b[38;5;241m*\u001b[39mkwargs)\n\u001b[1;32m   2877\u001b[0m         \u001b[38;5;28;01melse\u001b[39;00m:\n\u001b[0;32m-> 2878\u001b[0m             \u001b[38;5;28minput\u001b[39m \u001b[38;5;241m=\u001b[39m \u001b[43mcontext\u001b[49m\u001b[38;5;241;43m.\u001b[39;49m\u001b[43mrun\u001b[49m\u001b[43m(\u001b[49m\u001b[43mstep\u001b[49m\u001b[38;5;241;43m.\u001b[39;49m\u001b[43minvoke\u001b[49m\u001b[43m,\u001b[49m\u001b[43m \u001b[49m\u001b[38;5;28;43minput\u001b[39;49m\u001b[43m,\u001b[49m\u001b[43m \u001b[49m\u001b[43mconfig\u001b[49m\u001b[43m)\u001b[49m\n\u001b[1;32m   2879\u001b[0m \u001b[38;5;66;03m# finish the root run\u001b[39;00m\n\u001b[1;32m   2880\u001b[0m \u001b[38;5;28;01mexcept\u001b[39;00m \u001b[38;5;167;01mBaseException\u001b[39;00m \u001b[38;5;28;01mas\u001b[39;00m e:\n",
            "File \u001b[0;32m~/sync/github/llm-playground/.venv/lib/python3.12/site-packages/langchain_core/runnables/base.py:4474\u001b[0m, in \u001b[0;36mRunnableLambda.invoke\u001b[0;34m(self, input, config, **kwargs)\u001b[0m\n\u001b[1;32m   4460\u001b[0m \u001b[38;5;250m\u001b[39m\u001b[38;5;124;03m\"\"\"Invoke this Runnable synchronously.\u001b[39;00m\n\u001b[1;32m   4461\u001b[0m \n\u001b[1;32m   4462\u001b[0m \u001b[38;5;124;03mArgs:\u001b[39;00m\n\u001b[0;32m   (...)\u001b[0m\n\u001b[1;32m   4471\u001b[0m \u001b[38;5;124;03m    TypeError: If the Runnable is a coroutine function.\u001b[39;00m\n\u001b[1;32m   4472\u001b[0m \u001b[38;5;124;03m\"\"\"\u001b[39;00m\n\u001b[1;32m   4473\u001b[0m \u001b[38;5;28;01mif\u001b[39;00m \u001b[38;5;28mhasattr\u001b[39m(\u001b[38;5;28mself\u001b[39m, \u001b[38;5;124m\"\u001b[39m\u001b[38;5;124mfunc\u001b[39m\u001b[38;5;124m\"\u001b[39m):\n\u001b[0;32m-> 4474\u001b[0m     \u001b[38;5;28;01mreturn\u001b[39;00m \u001b[38;5;28;43mself\u001b[39;49m\u001b[38;5;241;43m.\u001b[39;49m\u001b[43m_call_with_config\u001b[49m\u001b[43m(\u001b[49m\n\u001b[1;32m   4475\u001b[0m \u001b[43m        \u001b[49m\u001b[38;5;28;43mself\u001b[39;49m\u001b[38;5;241;43m.\u001b[39;49m\u001b[43m_invoke\u001b[49m\u001b[43m,\u001b[49m\n\u001b[1;32m   4476\u001b[0m \u001b[43m        \u001b[49m\u001b[38;5;28;43minput\u001b[39;49m\u001b[43m,\u001b[49m\n\u001b[1;32m   4477\u001b[0m \u001b[43m        \u001b[49m\u001b[38;5;28;43mself\u001b[39;49m\u001b[38;5;241;43m.\u001b[39;49m\u001b[43m_config\u001b[49m\u001b[43m(\u001b[49m\u001b[43mconfig\u001b[49m\u001b[43m,\u001b[49m\u001b[43m \u001b[49m\u001b[38;5;28;43mself\u001b[39;49m\u001b[38;5;241;43m.\u001b[39;49m\u001b[43mfunc\u001b[49m\u001b[43m)\u001b[49m\u001b[43m,\u001b[49m\n\u001b[1;32m   4478\u001b[0m \u001b[43m        \u001b[49m\u001b[38;5;241;43m*\u001b[39;49m\u001b[38;5;241;43m*\u001b[39;49m\u001b[43mkwargs\u001b[49m\u001b[43m,\u001b[49m\n\u001b[1;32m   4479\u001b[0m \u001b[43m    \u001b[49m\u001b[43m)\u001b[49m\n\u001b[1;32m   4480\u001b[0m \u001b[38;5;28;01melse\u001b[39;00m:\n\u001b[1;32m   4481\u001b[0m     \u001b[38;5;28;01mraise\u001b[39;00m \u001b[38;5;167;01mTypeError\u001b[39;00m(\n\u001b[1;32m   4482\u001b[0m         \u001b[38;5;124m\"\u001b[39m\u001b[38;5;124mCannot invoke a coroutine function synchronously.\u001b[39m\u001b[38;5;124m\"\u001b[39m\n\u001b[1;32m   4483\u001b[0m         \u001b[38;5;124m\"\u001b[39m\u001b[38;5;124mUse `ainvoke` instead.\u001b[39m\u001b[38;5;124m\"\u001b[39m\n\u001b[1;32m   4484\u001b[0m     )\n",
            "File \u001b[0;32m~/sync/github/llm-playground/.venv/lib/python3.12/site-packages/langchain_core/runnables/base.py:1785\u001b[0m, in \u001b[0;36mRunnable._call_with_config\u001b[0;34m(self, func, input, config, run_type, **kwargs)\u001b[0m\n\u001b[1;32m   1781\u001b[0m     context \u001b[38;5;241m=\u001b[39m copy_context()\n\u001b[1;32m   1782\u001b[0m     context\u001b[38;5;241m.\u001b[39mrun(_set_config_context, child_config)\n\u001b[1;32m   1783\u001b[0m     output \u001b[38;5;241m=\u001b[39m cast(\n\u001b[1;32m   1784\u001b[0m         Output,\n\u001b[0;32m-> 1785\u001b[0m         \u001b[43mcontext\u001b[49m\u001b[38;5;241;43m.\u001b[39;49m\u001b[43mrun\u001b[49m\u001b[43m(\u001b[49m\n\u001b[1;32m   1786\u001b[0m \u001b[43m            \u001b[49m\u001b[43mcall_func_with_variable_args\u001b[49m\u001b[43m,\u001b[49m\u001b[43m  \u001b[49m\u001b[38;5;66;43;03m# type: ignore[arg-type]\u001b[39;49;00m\n\u001b[1;32m   1787\u001b[0m \u001b[43m            \u001b[49m\u001b[43mfunc\u001b[49m\u001b[43m,\u001b[49m\u001b[43m  \u001b[49m\u001b[38;5;66;43;03m# type: ignore[arg-type]\u001b[39;49;00m\n\u001b[1;32m   1788\u001b[0m \u001b[43m            \u001b[49m\u001b[38;5;28;43minput\u001b[39;49m\u001b[43m,\u001b[49m\u001b[43m  \u001b[49m\u001b[38;5;66;43;03m# type: ignore[arg-type]\u001b[39;49;00m\n\u001b[1;32m   1789\u001b[0m \u001b[43m            \u001b[49m\u001b[43mconfig\u001b[49m\u001b[43m,\u001b[49m\n\u001b[1;32m   1790\u001b[0m \u001b[43m            \u001b[49m\u001b[43mrun_manager\u001b[49m\u001b[43m,\u001b[49m\n\u001b[1;32m   1791\u001b[0m \u001b[43m            \u001b[49m\u001b[38;5;241;43m*\u001b[39;49m\u001b[38;5;241;43m*\u001b[39;49m\u001b[43mkwargs\u001b[49m\u001b[43m,\u001b[49m\n\u001b[1;32m   1792\u001b[0m \u001b[43m        \u001b[49m\u001b[43m)\u001b[49m,\n\u001b[1;32m   1793\u001b[0m     )\n\u001b[1;32m   1794\u001b[0m \u001b[38;5;28;01mexcept\u001b[39;00m \u001b[38;5;167;01mBaseException\u001b[39;00m \u001b[38;5;28;01mas\u001b[39;00m e:\n\u001b[1;32m   1795\u001b[0m     run_manager\u001b[38;5;241m.\u001b[39mon_chain_error(e)\n",
            "File \u001b[0;32m~/sync/github/llm-playground/.venv/lib/python3.12/site-packages/langchain_core/runnables/config.py:398\u001b[0m, in \u001b[0;36mcall_func_with_variable_args\u001b[0;34m(func, input, config, run_manager, **kwargs)\u001b[0m\n\u001b[1;32m    396\u001b[0m \u001b[38;5;28;01mif\u001b[39;00m run_manager \u001b[38;5;129;01mis\u001b[39;00m \u001b[38;5;129;01mnot\u001b[39;00m \u001b[38;5;28;01mNone\u001b[39;00m \u001b[38;5;129;01mand\u001b[39;00m accepts_run_manager(func):\n\u001b[1;32m    397\u001b[0m     kwargs[\u001b[38;5;124m\"\u001b[39m\u001b[38;5;124mrun_manager\u001b[39m\u001b[38;5;124m\"\u001b[39m] \u001b[38;5;241m=\u001b[39m run_manager\n\u001b[0;32m--> 398\u001b[0m \u001b[38;5;28;01mreturn\u001b[39;00m \u001b[43mfunc\u001b[49m\u001b[43m(\u001b[49m\u001b[38;5;28;43minput\u001b[39;49m\u001b[43m,\u001b[49m\u001b[43m \u001b[49m\u001b[38;5;241;43m*\u001b[39;49m\u001b[38;5;241;43m*\u001b[39;49m\u001b[43mkwargs\u001b[49m\u001b[43m)\u001b[49m\n",
            "File \u001b[0;32m~/sync/github/llm-playground/.venv/lib/python3.12/site-packages/langchain_core/runnables/base.py:4330\u001b[0m, in \u001b[0;36mRunnableLambda._invoke\u001b[0;34m(self, input, run_manager, config, **kwargs)\u001b[0m\n\u001b[1;32m   4328\u001b[0m                 output \u001b[38;5;241m=\u001b[39m chunk\n\u001b[1;32m   4329\u001b[0m \u001b[38;5;28;01melse\u001b[39;00m:\n\u001b[0;32m-> 4330\u001b[0m     output \u001b[38;5;241m=\u001b[39m \u001b[43mcall_func_with_variable_args\u001b[49m\u001b[43m(\u001b[49m\n\u001b[1;32m   4331\u001b[0m \u001b[43m        \u001b[49m\u001b[38;5;28;43mself\u001b[39;49m\u001b[38;5;241;43m.\u001b[39;49m\u001b[43mfunc\u001b[49m\u001b[43m,\u001b[49m\u001b[43m \u001b[49m\u001b[38;5;28;43minput\u001b[39;49m\u001b[43m,\u001b[49m\u001b[43m \u001b[49m\u001b[43mconfig\u001b[49m\u001b[43m,\u001b[49m\u001b[43m \u001b[49m\u001b[43mrun_manager\u001b[49m\u001b[43m,\u001b[49m\u001b[43m \u001b[49m\u001b[38;5;241;43m*\u001b[39;49m\u001b[38;5;241;43m*\u001b[39;49m\u001b[43mkwargs\u001b[49m\n\u001b[1;32m   4332\u001b[0m \u001b[43m    \u001b[49m\u001b[43m)\u001b[49m\n\u001b[1;32m   4333\u001b[0m \u001b[38;5;66;03m# If the output is a Runnable, invoke it\u001b[39;00m\n\u001b[1;32m   4334\u001b[0m \u001b[38;5;28;01mif\u001b[39;00m \u001b[38;5;28misinstance\u001b[39m(output, Runnable):\n",
            "File \u001b[0;32m~/sync/github/llm-playground/.venv/lib/python3.12/site-packages/langchain_core/runnables/config.py:398\u001b[0m, in \u001b[0;36mcall_func_with_variable_args\u001b[0;34m(func, input, config, run_manager, **kwargs)\u001b[0m\n\u001b[1;32m    396\u001b[0m \u001b[38;5;28;01mif\u001b[39;00m run_manager \u001b[38;5;129;01mis\u001b[39;00m \u001b[38;5;129;01mnot\u001b[39;00m \u001b[38;5;28;01mNone\u001b[39;00m \u001b[38;5;129;01mand\u001b[39;00m accepts_run_manager(func):\n\u001b[1;32m    397\u001b[0m     kwargs[\u001b[38;5;124m\"\u001b[39m\u001b[38;5;124mrun_manager\u001b[39m\u001b[38;5;124m\"\u001b[39m] \u001b[38;5;241m=\u001b[39m run_manager\n\u001b[0;32m--> 398\u001b[0m \u001b[38;5;28;01mreturn\u001b[39;00m \u001b[43mfunc\u001b[49m\u001b[43m(\u001b[49m\u001b[38;5;28;43minput\u001b[39;49m\u001b[43m,\u001b[49m\u001b[43m \u001b[49m\u001b[38;5;241;43m*\u001b[39;49m\u001b[38;5;241;43m*\u001b[39;49m\u001b[43mkwargs\u001b[49m\u001b[43m)\u001b[49m\n",
            "Cell \u001b[0;32mIn[34], line 7\u001b[0m, in \u001b[0;36menter_chain\u001b[0;34m(input_dict, team_members)\u001b[0m\n\u001b[1;32m      5\u001b[0m \u001b[38;5;28;01mdef\u001b[39;00m \u001b[38;5;21menter_chain\u001b[39m(input_dict: Dict[\u001b[38;5;28mstr\u001b[39m, \u001b[38;5;28mstr\u001b[39m], team_members: List[\u001b[38;5;28mstr\u001b[39m]) \u001b[38;5;241m-\u001b[39m\u001b[38;5;241m>\u001b[39m Dict[\u001b[38;5;28mstr\u001b[39m, Any]:\n\u001b[1;32m      6\u001b[0m     results: Dict[\u001b[38;5;28mstr\u001b[39m, Any] \u001b[38;5;241m=\u001b[39m {\n\u001b[0;32m----> 7\u001b[0m         \u001b[38;5;124m\"\u001b[39m\u001b[38;5;124mmessages\u001b[39m\u001b[38;5;124m\"\u001b[39m: [HumanMessage(content\u001b[38;5;241m=\u001b[39m\u001b[43minput_dict\u001b[49m\u001b[43m[\u001b[49m\u001b[38;5;124;43m\"\u001b[39;49m\u001b[38;5;124;43mquestion\u001b[39;49m\u001b[38;5;124;43m\"\u001b[39;49m\u001b[43m]\u001b[49m)],\n\u001b[1;32m      8\u001b[0m         \u001b[38;5;124m\"\u001b[39m\u001b[38;5;124mteam_members\u001b[39m\u001b[38;5;124m\"\u001b[39m: \u001b[38;5;124m\"\u001b[39m\u001b[38;5;124m, \u001b[39m\u001b[38;5;124m\"\u001b[39m\u001b[38;5;241m.\u001b[39mjoin(team_members),\n\u001b[1;32m      9\u001b[0m     }\n\u001b[1;32m     10\u001b[0m     \u001b[38;5;28;01mreturn\u001b[39;00m results\n",
            "\u001b[0;31mTypeError\u001b[0m: string indices must be integers, not 'str'"
          ]
        }
      ],
      "source": [
        "for s in super_graph.stream(\n",
        "    {\n",
        "        \"messages\": [\n",
        "            HumanMessage(\n",
        "                content=\"Write a LinkedIn post on the paper 'Extending Llama-3’s Context Ten-Fold Overnight'. First consult the research team. Then make sure you consult the LinkedIn team, and check for copy editing and dopeness, and write the file to disk.\"\n",
        "            )\n",
        "        ],\n",
        "    },\n",
        "    {\"recursion_limit\": 30},\n",
        "):\n",
        "    if \"__end__\" not in s:\n",
        "        print(s)\n",
        "        print(\"---\")\n",
        "     \n"
      ]
    },
    {
      "cell_type": "markdown",
      "metadata": {
        "id": "PuZAvSlJJpPP"
      },
      "source": [
        "## SAMPLE POST!"
      ]
    },
    {
      "cell_type": "markdown",
      "metadata": {
        "id": "lOEMCrXTJaxW"
      },
      "source": [
        "```\n",
        "A game-changing breakthrough in AI just touched down! The Llama-3-8B-Instruct model just went from cool to ultra-cool, extending its context length from 8K to a mind-blowing 80K. And guess what? It kept all its original capabilities for shorter contexts.\n",
        "\n",
        "Talk about speed? This upgrade was pulled off in only 8 hours using an 8xA800 (80G) GPU machine. Big ups to the 3.5K synthetic training samples generated by GPT-4 that made this possible. This shows how large language models are pushing boundaries and taking giant leaps in the game.\n",
        "\n",
        "Here's the dopest part: the squad is going all out, releasing all related resources including data, model, and training code, for everyone. This is how we move the needle, with open collaboration.\n",
        "\n",
        "For more deets on this cutting-edge breakthrough and further upgrades, hit up our dedicated teams. We've got the info, you bring the curiosity.\n",
        "\n",
        "#AI #MachineLearning #OpenSource #Innovation #Collaboration #Advancement\n",
        "```"
      ]
    }
  ],
  "metadata": {
    "colab": {
      "collapsed_sections": [
        "IDUnpEEl-L_F"
      ],
      "provenance": []
    },
    "kernelspec": {
      "display_name": "Python 3",
      "name": "python3"
    },
    "language_info": {
      "codemirror_mode": {
        "name": "ipython",
        "version": 3
      },
      "file_extension": ".py",
      "mimetype": "text/x-python",
      "name": "python",
      "nbconvert_exporter": "python",
      "pygments_lexer": "ipython3",
      "version": "3.12.6"
    }
  },
  "nbformat": 4,
  "nbformat_minor": 0
}
